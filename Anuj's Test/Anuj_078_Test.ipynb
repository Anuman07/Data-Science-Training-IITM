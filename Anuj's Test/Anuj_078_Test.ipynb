{
 "cells": [
  {
   "cell_type": "code",
   "execution_count": 1,
   "id": "ce035ee4",
   "metadata": {},
   "outputs": [],
   "source": [
    "# Section A: Theory Questions (25 Marks)"
   ]
  },
  {
   "cell_type": "code",
   "execution_count": 2,
   "id": "2bf285c5",
   "metadata": {},
   "outputs": [],
   "source": [
    "# Question 1 (2 marks)\n",
    "\n",
    "# Answer: i) List is mutable and Tuple is immutable\n",
    "#         ii) List use square brackets [] and tuple use Parenthesis()\n",
    "#             example: List: l = [1,2,3,4]\n",
    "#                     Tuple: a = (123,43,55,46)"
   ]
  },
  {
   "cell_type": "code",
   "execution_count": 65,
   "id": "c76df150",
   "metadata": {},
   "outputs": [],
   "source": [
    "# Question 2 (3 marks)\n",
    "\n",
    "# Answer: In python we use input() funtion to take input from user, it return string(str), \n",
    "# We have to to wrirte int before input() to convert it into integer\n",
    "# example: \n",
    "        "
   ]
  },
  {
   "cell_type": "code",
   "execution_count": 12,
   "id": "e5a9f613",
   "metadata": {},
   "outputs": [
    {
     "name": "stdout",
     "output_type": "stream",
     "text": [
      "Enter name: Anuj\n",
      "Enter Number: 78\n"
     ]
    }
   ],
   "source": [
    "a = input('Enter name: ')\n",
    "b = int(input('Enter Number: '))\n"
   ]
  },
  {
   "cell_type": "code",
   "execution_count": 4,
   "id": "d8db75ab",
   "metadata": {},
   "outputs": [],
   "source": [
    "# Question 3 (2 marks)\n",
    "\n",
    "# What are Python dictionaries? Write the syntax to create a dictionary with three key-value pairs.\n",
    "# # Answer: Dictionaries is a datatype that store data in key-value pair\n",
    "# Syntax:"
   ]
  },
  {
   "cell_type": "code",
   "execution_count": 17,
   "id": "6f504f01",
   "metadata": {},
   "outputs": [
    {
     "name": "stdout",
     "output_type": "stream",
     "text": [
      "{'Name': 'Anuj', 'Std_ID': 78, 'Course': 'Bca'}\n"
     ]
    }
   ],
   "source": [
    "Data = {'Name': 'Anuj', 'Std_ID': 78, 'Course': 'Bca'}\n",
    "\n",
    "print(Data)"
   ]
  },
  {
   "cell_type": "code",
   "execution_count": 5,
   "id": "c1647364",
   "metadata": {},
   "outputs": [],
   "source": [
    "# Question 4 (3 marks)\n",
    "\n",
    "# Answer: Loop help us to repeat or reuse a set of code in our program\n",
    "example: \n",
    "    "
   ]
  },
  {
   "cell_type": "code",
   "execution_count": 19,
   "id": "6d72019c",
   "metadata": {},
   "outputs": [
    {
     "name": "stdout",
     "output_type": "stream",
     "text": [
      "1\n",
      "2\n",
      "3\n",
      "4\n",
      "5\n"
     ]
    }
   ],
   "source": [
    "for i in range(1, 6):\n",
    "    print(i)"
   ]
  },
  {
   "cell_type": "code",
   "execution_count": 6,
   "id": "7eed6de7",
   "metadata": {},
   "outputs": [],
   "source": [
    "# Question 5 (4 marks)\n",
    "\n",
    "# What is exception handling in Python? Explain the purpose of try , except , and finally blocks with\n",
    "# a basic example."
   ]
  },
  {
   "cell_type": "code",
   "execution_count": 28,
   "id": "c72d08ee",
   "metadata": {},
   "outputs": [],
   "source": [
    "# Question 6 (4 marks)\n",
    "\n",
    "# Answer: \n",
    "# Python modules are files that contain Python code and functions, We can use these modules any where in our programs \n",
    "# import math means we are importing math module\n",
    "# from math import sqrt means we are calling sqrt function from math module\n",
    "# Example"
   ]
  },
  {
   "cell_type": "code",
   "execution_count": 27,
   "id": "e141e98e",
   "metadata": {},
   "outputs": [
    {
     "name": "stdout",
     "output_type": "stream",
     "text": [
      "16\n"
     ]
    }
   ],
   "source": [
    "import math as m\n",
    "a = 8\n",
    "b = 2\n",
    "c = m.prod([a,b])\n",
    "print(c)\n"
   ]
  },
  {
   "cell_type": "code",
   "execution_count": 34,
   "id": "d50a0325",
   "metadata": {},
   "outputs": [
    {
     "name": "stdout",
     "output_type": "stream",
     "text": [
      "2.8284271247461903\n"
     ]
    }
   ],
   "source": [
    " from math import sqrt\n",
    "print(sqrt(a))"
   ]
  },
  {
   "cell_type": "code",
   "execution_count": 8,
   "id": "c27c11eb",
   "metadata": {},
   "outputs": [],
   "source": [
    "# Question 7 (4 marks)\n",
    "\n",
    "# Explain what object-oriented programming means in Python. What are classes and objects? Give a\n",
    "# simple example.\n"
   ]
  },
  {
   "cell_type": "code",
   "execution_count": 9,
   "id": "09527800",
   "metadata": {},
   "outputs": [],
   "source": [
    "# Question 8 (3 marks)\n",
    "# What is list comprehension in Python? Rewrite this code using list comprehension and use enumerate function :\n",
    "# result = []\n",
    "# for x in range(10):\n",
    "# if x % 2 == 0:\n",
    "# result.append(x * 2)\n",
    "\n",
    "# Answer: List Comprehention is easy or short way to create list.\n",
    "# List comprehension code:"
   ]
  },
  {
   "cell_type": "code",
   "execution_count": 39,
   "id": "86242716",
   "metadata": {},
   "outputs": [
    {
     "name": "stdout",
     "output_type": "stream",
     "text": [
      "0 karan\n",
      "1 Ravi\n",
      "2 Ajay\n",
      "3 Mohan\n"
     ]
    }
   ],
   "source": [
    "\n",
    "stu = ['karan','Ravi','Ajay','Mohan']\n",
    "for i,j in enumerate(stu):\n",
    "  \n",
    "    print(i,j)"
   ]
  },
  {
   "cell_type": "code",
   "execution_count": null,
   "id": "b4d8d6e9",
   "metadata": {},
   "outputs": [],
   "source": [
    "# Question 9 (5 marks)\n",
    "# Answer"
   ]
  },
  {
   "cell_type": "code",
   "execution_count": 41,
   "id": "e8733a02",
   "metadata": {},
   "outputs": [
    {
     "name": "stdout",
     "output_type": "stream",
     "text": [
      "Area: 78.5\n"
     ]
    }
   ],
   "source": [
    "def calculate_area(radius):\n",
    "    pi = 3.14\n",
    "    return pi * (radius ** 2)\n",
    "\n",
    "area = calculate_area(5)\n",
    "print(\"Area:\", area)"
   ]
  },
  {
   "cell_type": "code",
   "execution_count": 42,
   "id": "b7f90bd6",
   "metadata": {},
   "outputs": [
    {
     "data": {
      "text/plain": [
       "23766.66"
      ]
     },
     "execution_count": 42,
     "metadata": {},
     "output_type": "execute_result"
    }
   ],
   "source": [
    "calculate_area(87)"
   ]
  },
  {
   "cell_type": "code",
   "execution_count": 43,
   "id": "01ff6088",
   "metadata": {},
   "outputs": [],
   "source": [
    "# Question 10 (5 marks)\n",
    "# Answer"
   ]
  },
  {
   "cell_type": "code",
   "execution_count": 44,
   "id": "ca7426ab",
   "metadata": {},
   "outputs": [
    {
     "name": "stdout",
     "output_type": "stream",
     "text": [
      "What is your name? Anuj\n",
      "How old are you? 20\n",
      "Hello Anuj, you are 20 years old!\n"
     ]
    }
   ],
   "source": [
    "name = input(\"What is your name? \")\n",
    "\n",
    "age = input(\"How old are you? \")\n",
    "\n",
    "print(f\"Hello {name}, you are {age} years old!\")"
   ]
  },
  {
   "cell_type": "code",
   "execution_count": null,
   "id": "843ff773",
   "metadata": {},
   "outputs": [],
   "source": [
    "# Question 11 (5 marks)\n",
    "# answer:"
   ]
  },
  {
   "cell_type": "code",
   "execution_count": 49,
   "id": "11258762",
   "metadata": {},
   "outputs": [
    {
     "name": "stdout",
     "output_type": "stream",
     "text": [
      "1 : apple\n",
      "2 : banana\n",
      "3 : Mangoes\n",
      "4 : Papaya\n",
      "5 : Lichi\n"
     ]
    }
   ],
   "source": [
    "fruits = [\"apple\", \"banana\", \"Mangoes\", \"Papaya\", \"Lichi\"]\n",
    "\n",
    "for i, fruit in enumerate(fruits):\n",
    "    print(f\"{i + 1} : {fruit}\") \n",
    "    "
   ]
  },
  {
   "cell_type": "code",
   "execution_count": null,
   "id": "79b5292b",
   "metadata": {},
   "outputs": [],
   "source": [
    "# Question 14 (8 marks)\n",
    "# Answer:\n",
    "# This question is from Assessment Day 6"
   ]
  },
  {
   "cell_type": "code",
   "execution_count": 60,
   "id": "85bd3258",
   "metadata": {},
   "outputs": [],
   "source": [
    "class BankAccount:\n",
    "    def __init__(self, name, account_number, balance):\n",
    "        self.name = name\n",
    "        self.account_number = account_number\n",
    "        self.__balance = balance\n",
    "\n",
    "    def deposit(self, amount):\n",
    "        self.__balance += amount\n",
    "        print(\"Deposited \", amount)\n",
    "\n",
    "    def withdraw(self, amount):\n",
    "        if amount <= self.__balance:\n",
    "            self.__balance -= amount\n",
    "            print(\"Withdrew \", amount)\n",
    "        else:\n",
    "            print(\" paisa Nahi hai\")\n",
    "\n",
    "    def check_balance(self):\n",
    "        print(\"Balance: ₹\", self.__balance)\n",
    "\n"
   ]
  },
  {
   "cell_type": "code",
   "execution_count": 61,
   "id": "fe9302a5",
   "metadata": {},
   "outputs": [
    {
     "name": "stdout",
     "output_type": "stream",
     "text": [
      "Balance: ₹ 1000\n"
     ]
    }
   ],
   "source": [
    "acc = BankAccount(\"Anuj\", \"123456\", 1000)\n",
    "acc.check_balance()"
   ]
  },
  {
   "cell_type": "code",
   "execution_count": 62,
   "id": "03577683",
   "metadata": {},
   "outputs": [
    {
     "name": "stdout",
     "output_type": "stream",
     "text": [
      "Deposited  2000\n"
     ]
    }
   ],
   "source": [
    "acc.deposit(2000)"
   ]
  },
  {
   "cell_type": "code",
   "execution_count": 63,
   "id": "f9f38fce",
   "metadata": {},
   "outputs": [
    {
     "name": "stdout",
     "output_type": "stream",
     "text": [
      "Withdrew  500\n"
     ]
    }
   ],
   "source": [
    "acc.withdraw(500)"
   ]
  },
  {
   "cell_type": "code",
   "execution_count": 64,
   "id": "1d5caedf",
   "metadata": {},
   "outputs": [
    {
     "name": "stdout",
     "output_type": "stream",
     "text": [
      "Balance: ₹ 2500\n"
     ]
    }
   ],
   "source": [
    "acc.check_balance()"
   ]
  },
  {
   "cell_type": "code",
   "execution_count": null,
   "id": "ee5d8391",
   "metadata": {},
   "outputs": [],
   "source": [
    "# Question 15: \n",
    "# Answer: "
   ]
  },
  {
   "cell_type": "code",
   "execution_count": 68,
   "id": "02c1586d",
   "metadata": {},
   "outputs": [],
   "source": []
  },
  {
   "cell_type": "code",
   "execution_count": null,
   "id": "3aa83530",
   "metadata": {},
   "outputs": [],
   "source": []
  },
  {
   "cell_type": "code",
   "execution_count": null,
   "id": "de82b3ef",
   "metadata": {},
   "outputs": [],
   "source": []
  }
 ],
 "metadata": {
  "kernelspec": {
   "display_name": "Python 3 (ipykernel)",
   "language": "python",
   "name": "python3"
  },
  "language_info": {
   "codemirror_mode": {
    "name": "ipython",
    "version": 3
   },
   "file_extension": ".py",
   "mimetype": "text/x-python",
   "name": "python",
   "nbconvert_exporter": "python",
   "pygments_lexer": "ipython3",
   "version": "3.9.12"
  }
 },
 "nbformat": 4,
 "nbformat_minor": 5
}
