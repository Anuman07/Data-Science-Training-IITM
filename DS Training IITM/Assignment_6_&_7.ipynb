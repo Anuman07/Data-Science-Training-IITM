{
 "cells": [
  {
   "cell_type": "code",
   "execution_count": 8,
   "id": "d59da583-09f9-4cb2-bcaf-aa35ed9ecb0c",
   "metadata": {},
   "outputs": [],
   "source": [
    "class IITM:\n",
    "\n",
    "    def intro():\n",
    "        print('Hello')\n",
    "\n",
    "    def say_hello():\n",
    "        print('Hello!!')\n",
    "\n",
    "    def bye():\n",
    "        print('Bye Bye')"
   ]
  },
  {
   "cell_type": "code",
   "execution_count": 9,
   "id": "a8e07527-edf3-4a2c-ae61-62c5d6f85de5",
   "metadata": {},
   "outputs": [
    {
     "name": "stdout",
     "output_type": "stream",
     "text": [
      "<class 'int'>\n"
     ]
    }
   ],
   "source": [
    "a = int(23)\n",
    "print(type(a))"
   ]
  },
  {
   "cell_type": "code",
   "execution_count": 10,
   "id": "688ba3c8-afe1-4b84-b2f2-42387e770719",
   "metadata": {},
   "outputs": [
    {
     "name": "stdout",
     "output_type": "stream",
     "text": [
      "<class '__main__.IITM'>\n"
     ]
    }
   ],
   "source": [
    "Anuj = IITM()\n",
    "print(type(Anuj))"
   ]
  },
  {
   "cell_type": "code",
   "execution_count": 16,
   "id": "a2968a38-9084-460e-84b0-824949b1d2fc",
   "metadata": {},
   "outputs": [],
   "source": [
    "#class NUM:\n",
    "#    def divide(a):\n",
    "#        a/2 == 0\n",
    " #       print(a)"
   ]
  },
  {
   "cell_type": "code",
   "execution_count": 18,
   "id": "6b69545d-0653-4447-86d4-2dd294fe7ff9",
   "metadata": {},
   "outputs": [],
   "source": [
    "#divide(5)"
   ]
  },
  {
   "cell_type": "code",
   "execution_count": 37,
   "id": "6201602f-9f10-4a14-ac6b-09ea04afe0f2",
   "metadata": {},
   "outputs": [],
   "source": [
    "class Remote:\n",
    "\n",
    "    def __init__(self): #initilization ( Name: #class constructor, #magic method, #dunder method )\n",
    "        print('object has beeen created with class Remote')\n",
    "        print('Now u can use it')\n",
    "        \n",
    "    def volume_up(a): #Method\n",
    "        print('Volume up by 1 unit')\n",
    "\n",
    "    def volume_down(b): #Method\n",
    "        print('Volume down by 1 unit')\n",
    "        \n",
    "    def power_on(c): #Method\n",
    "        print('TV is on')\n",
    "\n",
    "    def power_off(d): #Method\n",
    "        print('TV is off')\n",
    "\n",
    "    def auto_suggest_channel(e):\n",
    "        import time \n",
    "        print('Searching Trendinng Channel')\n",
    "        time.sleep(2)\n",
    "        print('Youtube!! IITM')\n",
    "\n",
    "    def __del__(self): #class destructor\n",
    "        print('Object has been deleted succesfull..!!')\n",
    "        "
   ]
  },
  {
   "cell_type": "code",
   "execution_count": 38,
   "id": "e7df606d-0c3d-4ef1-8fae-0544ac5bdb3c",
   "metadata": {},
   "outputs": [
    {
     "name": "stdout",
     "output_type": "stream",
     "text": [
      "object has beeen created with class Remote\n",
      "Now u can use it\n",
      "Dang\n"
     ]
    }
   ],
   "source": [
    "LG = Remote() #object\n",
    "print('Dang')"
   ]
  },
  {
   "cell_type": "code",
   "execution_count": 39,
   "id": "e12f3248-3dd0-414e-a246-d8ad590f1f61",
   "metadata": {},
   "outputs": [
    {
     "name": "stdout",
     "output_type": "stream",
     "text": [
      "TV is on\n"
     ]
    }
   ],
   "source": [
    "LG.power_on()"
   ]
  },
  {
   "cell_type": "code",
   "execution_count": 40,
   "id": "9985097e-f506-4599-a943-3a28fe6ecf5a",
   "metadata": {},
   "outputs": [
    {
     "name": "stdout",
     "output_type": "stream",
     "text": [
      "TV is off\n"
     ]
    }
   ],
   "source": [
    "LG.power_off()"
   ]
  },
  {
   "cell_type": "code",
   "execution_count": 41,
   "id": "4e3141a4-c699-42fc-bdcd-77ae275b09a6",
   "metadata": {},
   "outputs": [
    {
     "name": "stdout",
     "output_type": "stream",
     "text": [
      "Volume up by 1 unit\n"
     ]
    }
   ],
   "source": [
    "LG.volume_up()"
   ]
  },
  {
   "cell_type": "code",
   "execution_count": 42,
   "id": "b7dd910a-d3b6-4642-8fb6-7cedd53832d9",
   "metadata": {},
   "outputs": [
    {
     "name": "stdout",
     "output_type": "stream",
     "text": [
      "Volume down by 1 unit\n"
     ]
    }
   ],
   "source": [
    "LG.volume_down()"
   ]
  },
  {
   "cell_type": "code",
   "execution_count": 43,
   "id": "87edc495-3aaf-4949-b7a3-8bf4aecfdeef",
   "metadata": {},
   "outputs": [
    {
     "name": "stdout",
     "output_type": "stream",
     "text": [
      "Searching Trendinng Channel\n",
      "Youtube!! IITM\n"
     ]
    }
   ],
   "source": [
    "LG.auto_suggest_channel()"
   ]
  },
  {
   "cell_type": "code",
   "execution_count": null,
   "id": "9ed9b325-f4b6-4358-a335-cbaae2509da4",
   "metadata": {},
   "outputs": [],
   "source": [
    "del(LG)"
   ]
  },
  {
   "cell_type": "code",
   "execution_count": 97,
   "id": "95d24487-8e79-4ebf-9601-2f54025395d4",
   "metadata": {},
   "outputs": [],
   "source": [
    "class Car:\n",
    "\n",
    "    def __init__(self):\n",
    "        color = 'Black'\n",
    "        wheel = 4\n",
    "        spare_wheel = 1\n",
    "        airbag_support = True\n",
    "        fuel_type = 'Petrol'\n",
    "        car_type = 'Sedan'\n",
    "        gear_type = 'Automatic'\n",
    "\n",
    "    # ====================================\n",
    "    #Features\n",
    "\n",
    "    def auto_park(self):\n",
    "        import IPython\n",
    "        url = '''https://cdn.shopify.com/s/files/1/0761/9962/5012/files/parking_sensor_blog_2_480x480.gif'''\n",
    "        display(IPython.display.Image(url))\n",
    "\n",
    "    def engine_on(self):\n",
    "        import pygame\n",
    "        pygame.init()\n",
    "        path = r'''C:\\Users\\anuma\\Downloads\\car-engine-372477.mp3'''\n",
    "        music = pygame.mixer.Sound(path)\n",
    "        music.play()\n",
    "\n",
    "    def speed_up(self):\n",
    "        c = 10\n",
    "        while c<=200:\n",
    "            import time\n",
    "            print(f'Speed is increasing by {c} km/hr')\n",
    "            c += 10\n",
    "            display(clear = True)\n",
    "            time.sleep(0.5)\n",
    "            \n",
    "            if c >= 100:\n",
    "                print('You are crossing the speed limit')\n",
    "                break\n",
    "\n",
    "    def drift_break(self,drift = False):\n",
    "        if drift == True:\n",
    "            import pygame\n",
    "            pygame.init()\n",
    "            path = r'''C:\\Users\\anuma\\Downloads\\tu-tu-tu-du-max-verstappen.mp3'''\n",
    "            music = pygame.mixer.Sound(path)\n",
    "            music.play()\n",
    "            import IPython\n",
    "            url = '''https://media.tenor.com/puPGAEN97U0AAAAM/lol-mekro.gif'''\n",
    "            display(IPython.display.Image(url))\n",
    "        else: \n",
    "            print('Break Applied..!!')\n"
   ]
  },
  {
   "cell_type": "code",
   "execution_count": 98,
   "id": "ada8e48d-e547-483e-a338-9b659fc002ec",
   "metadata": {},
   "outputs": [],
   "source": [
    "bmw = Car()"
   ]
  },
  {
   "cell_type": "markdown",
   "id": "c98dcd44-e181-4498-ac76-c17a91f3bf1f",
   "metadata": {},
   "source": [
    "bmw.engine_on()"
   ]
  },
  {
   "cell_type": "code",
   "execution_count": 71,
   "id": "40a23383-7522-4c8e-8b0e-a4402d948a94",
   "metadata": {},
   "outputs": [
    {
     "name": "stdout",
     "output_type": "stream",
     "text": [
      "Break Applied..!!\n"
     ]
    }
   ],
   "source": [
    "bmw.drift_break()"
   ]
  },
  {
   "cell_type": "code",
   "execution_count": 93,
   "id": "93de79a5-06a9-4c85-9e50-201ec1d5ef4c",
   "metadata": {},
   "outputs": [],
   "source": [
    "bmw.engine_on()"
   ]
  },
  {
   "cell_type": "code",
   "execution_count": 99,
   "id": "f733c130-daca-4727-aa45-610472d7cd72",
   "metadata": {},
   "outputs": [
    {
     "name": "stdout",
     "output_type": "stream",
     "text": [
      "You are crossing the speed limit\n"
     ]
    }
   ],
   "source": [
    "bmw.speed_up()"
   ]
  },
  {
   "cell_type": "code",
   "execution_count": 102,
   "id": "c9f94f5d-4bd4-4f07-b989-8c458b2cf2cf",
   "metadata": {},
   "outputs": [],
   "source": [
    "class Car:\n",
    "\n",
    "    def __init__(self):\n",
    "        self.color = 'Black'\n",
    "        self.wheel = 4\n",
    "        self.spare_wheel = 1\n",
    "        self.airbag_support = True\n",
    "        self.fuel_type = 'Petrol'\n",
    "        self.car_type = 'Sedan'\n",
    "        self.gear_type = 'Automatic'\n",
    "        print('Your Car is Ready')\n",
    "\n",
    "    # ====================================\n",
    "    #Features\n",
    "\n",
    "    def auto_park(self): \n",
    "        import IPython\n",
    "        url = '''https://cdn.shopify.com/s/files/1/0761/9962/5012/files/parking_sensor_blog_2_480x480.gif'''\n",
    "        display(IPython.display.Image(url))\n",
    "\n",
    "    def engine_on(self):\n",
    "        import pygame\n",
    "        pygame.init()\n",
    "        path = r'''C:\\Users\\anuma\\Downloads\\car-engine-372477.mp3'''\n",
    "        music = pygame.mixer.Sound(path)\n",
    "        music.play()\n",
    "\n",
    "    def speed_up(self):\n",
    "        c = 10\n",
    "        while c<=200:\n",
    "            import time\n",
    "            print(f'Speed is Increasing by {c} km/hr')\n",
    "            c+= 10\n",
    "            display(clear= True)\n",
    "            time.sleep(0.5)\n",
    "\n",
    "            if c >=100:\n",
    "                print('You are crossing speed limit')\n",
    "                break\n",
    "\n",
    "    def drift_brake(self,drift = False):\n",
    "        if drift == True:\n",
    "            import pygame\n",
    "            pygame.init()\n",
    "            path = r'''C:\\Users\\anuma\\Downloads\\tu-tu-tu-du-max-verstappen.mp3'''\n",
    "            music = pygame.mixer.Sound(path)\n",
    "            music.play()\n",
    "            import IPython\n",
    "            url ='''https://media.tenor.com/puPGAEN97U0AAAAM/lol-mekro.gif'''\n",
    "            display(IPython.display.Image(url))\n",
    "\n",
    "        else:\n",
    "            print('Brake Applied!!')"
   ]
  },
  {
   "cell_type": "code",
   "execution_count": 84,
   "id": "6717ffad-0634-4a0a-8d14-86592db17ce9",
   "metadata": {},
   "outputs": [],
   "source": [
    "f1 = Car()"
   ]
  },
  {
   "cell_type": "code",
   "execution_count": 82,
   "id": "889203a1-affe-42c9-9da7-c12f2eaebf43",
   "metadata": {},
   "outputs": [
    {
     "name": "stdout",
     "output_type": "stream",
     "text": [
      "Brake Applied!!\n"
     ]
    }
   ],
   "source": []
  },
  {
   "cell_type": "code",
   "execution_count": 81,
   "id": "aef0714e-d074-45a4-a620-9ad5b1961b66",
   "metadata": {},
   "outputs": [],
   "source": [
    "f1.engine_on() #method use \"()\" and cannot be changed"
   ]
  },
  {
   "cell_type": "code",
   "execution_count": 85,
   "id": "4eb466e8-dfdc-4bb3-9f8c-02a029d25d21",
   "metadata": {},
   "outputs": [
    {
     "name": "stdout",
     "output_type": "stream",
     "text": [
      "Brake Applied!!\n"
     ]
    }
   ],
   "source": [
    "f1.drift_brake()"
   ]
  },
  {
   "cell_type": "code",
   "execution_count": null,
   "id": "4a6fa8fc-25e6-4af3-b9db-e2a060d9304b",
   "metadata": {},
   "outputs": [],
   "source": []
  },
  {
   "cell_type": "code",
   "execution_count": null,
   "id": "37a5597e-3047-416f-bf77-0f678619435c",
   "metadata": {},
   "outputs": [],
   "source": []
  },
  {
   "cell_type": "code",
   "execution_count": 88,
   "id": "ed06ad95-405c-45d8-974e-c4b1124c4e29",
   "metadata": {},
   "outputs": [
    {
     "name": "stdout",
     "output_type": "stream",
     "text": [
      "You are crossing speed limit\n"
     ]
    }
   ],
   "source": [
    "f1.speed_up()"
   ]
  },
  {
   "cell_type": "code",
   "execution_count": 103,
   "id": "fc74fa45-364d-44ca-8b72-ec4b26f43067",
   "metadata": {},
   "outputs": [
    {
     "name": "stdout",
     "output_type": "stream",
     "text": [
      "Your Car is Ready\n"
     ]
    }
   ],
   "source": [
    "kia = Car()"
   ]
  },
  {
   "cell_type": "code",
   "execution_count": 105,
   "id": "0e4d78d3-0dcc-43aa-8577-28fe1829c0e6",
   "metadata": {},
   "outputs": [
    {
     "data": {
      "text/plain": [
       "'Black'"
      ]
     },
     "execution_count": 105,
     "metadata": {},
     "output_type": "execute_result"
    }
   ],
   "source": [
    "kia.color "
   ]
  },
  {
   "cell_type": "code",
   "execution_count": 106,
   "id": "483b62cc-9d5b-449e-bf23-b824da3d54d4",
   "metadata": {},
   "outputs": [
    {
     "data": {
      "text/plain": [
       "'Automatic'"
      ]
     },
     "execution_count": 106,
     "metadata": {},
     "output_type": "execute_result"
    }
   ],
   "source": [
    "kia.gear_type"
   ]
  },
  {
   "cell_type": "code",
   "execution_count": 107,
   "id": "365bab28-1b79-472c-9486-cdf83cb1eacb",
   "metadata": {},
   "outputs": [
    {
     "name": "stdout",
     "output_type": "stream",
     "text": [
      "Your Car is Ready\n"
     ]
    }
   ],
   "source": [
    "tata = Car()"
   ]
  },
  {
   "cell_type": "code",
   "execution_count": 108,
   "id": "fd86e548-ebf8-487c-90b5-2f1c9d696c53",
   "metadata": {},
   "outputs": [
    {
     "name": "stdout",
     "output_type": "stream",
     "text": [
      "Your Car is Ready\n"
     ]
    }
   ],
   "source": [
    "maruti = Car()"
   ]
  },
  {
   "cell_type": "code",
   "execution_count": 110,
   "id": "70c6ee07-fa17-4ec1-8334-d30ff95f40dc",
   "metadata": {},
   "outputs": [],
   "source": [
    "tata.color = 'white' #instance variable can be changed and don't use any brackects"
   ]
  },
  {
   "cell_type": "code",
   "execution_count": 111,
   "id": "39f3fd59-8e5b-45bc-91ac-940712521288",
   "metadata": {},
   "outputs": [
    {
     "data": {
      "text/plain": [
       "'white'"
      ]
     },
     "execution_count": 111,
     "metadata": {},
     "output_type": "execute_result"
    }
   ],
   "source": [
    "tata.color"
   ]
  },
  {
   "cell_type": "code",
   "execution_count": 112,
   "id": "77e494bc-fa82-49d5-9cd4-ddb68aa278d9",
   "metadata": {},
   "outputs": [
    {
     "data": {
      "text/plain": [
       "'Black'"
      ]
     },
     "execution_count": 112,
     "metadata": {},
     "output_type": "execute_result"
    }
   ],
   "source": [
    "maruti.color"
   ]
  },
  {
   "cell_type": "code",
   "execution_count": 113,
   "id": "e1061a6d-acc1-4596-a7ff-13e1afc7fcdc",
   "metadata": {},
   "outputs": [],
   "source": [
    "maruti.gear_type = 'Mannual'"
   ]
  },
  {
   "cell_type": "code",
   "execution_count": 114,
   "id": "a69659a2-abb9-46e1-b4ee-e8812d3f4795",
   "metadata": {},
   "outputs": [
    {
     "data": {
      "text/plain": [
       "'Mannual'"
      ]
     },
     "execution_count": 114,
     "metadata": {},
     "output_type": "execute_result"
    }
   ],
   "source": [
    "maruti.gear_type"
   ]
  },
  {
   "cell_type": "code",
   "execution_count": null,
   "id": "454b62ae-9f3e-45de-bc4b-de8d1de46667",
   "metadata": {},
   "outputs": [],
   "source": [
    "#FOUR PILARS OF OOPs: i) Encapsulation => Access modifer: 1.Public 2.Private 3.Protected"
   ]
  },
  {
   "cell_type": "code",
   "execution_count": 118,
   "id": "6ef5063a-b994-4293-bc41-d2b4e75b5786",
   "metadata": {},
   "outputs": [],
   "source": [
    "class ATM_ver_1:\n",
    "    def __init__(self):\n",
    "        print('object create successfully')\n",
    "        self._pin = 1234 #protected variable\n",
    "        self._balance = 2000 #protected variable\n",
    "    \n",
    "    def change_pin(self):\n",
    "        self._pin = input('Enter New PIN')\n",
    "        print('You has changed the pin')\n",
    "    def show_balance(self):\n",
    "        print(f'''Your Current Balance is Rs {self.balance} ''')\n",
    "\n",
    "    def atm_performance_status(self):\n",
    "        print('ATM working Fine 100%')"
   ]
  },
  {
   "cell_type": "code",
   "execution_count": 116,
   "id": "37c9ff7e-958a-45c9-9c64-f55caa7e3c14",
   "metadata": {},
   "outputs": [],
   "source": [
    "icic = ATM()"
   ]
  },
  {
   "cell_type": "code",
   "execution_count": 119,
   "id": "8323f209-8375-4330-8c6b-61e13887f08b",
   "metadata": {},
   "outputs": [
    {
     "name": "stdout",
     "output_type": "stream",
     "text": [
      "object create successfully\n"
     ]
    }
   ],
   "source": [
    "Axis = ATM_ver_1()"
   ]
  },
  {
   "cell_type": "code",
   "execution_count": null,
   "id": "b1af52cb-c5d7-427c-add2-f58ff7578cec",
   "metadata": {},
   "outputs": [],
   "source": [
    "Axis.\n"
   ]
  },
  {
   "cell_type": "code",
   "execution_count": 128,
   "id": "0cd88879-417a-43b5-960a-5c507fe43288",
   "metadata": {},
   "outputs": [],
   "source": [
    "class ATM_ver_2:\n",
    "    def __init__(self):\n",
    "        print('object create successfully')\n",
    "        self.__pin = 1234 #private variable\n",
    "        self.__balance = 2000 #private variable\n",
    "    \n",
    "    def change_pin(self): #public method\n",
    "        self.__pin = input('Enter New PIN')\n",
    "        print('You has changed the pin')\n",
    "        \n",
    "    def show_balance(self):\n",
    "        print(f'''Your Current Balance is Rs {self.balance} ''')\n",
    "\n",
    "    def atm_performance_status(self):\n",
    "        print('ATM working Fine 100%')"
   ]
  },
  {
   "cell_type": "code",
   "execution_count": 124,
   "id": "bd1e132b-a245-420c-8d1f-6fa715f01e3d",
   "metadata": {},
   "outputs": [
    {
     "name": "stdout",
     "output_type": "stream",
     "text": [
      "object create successfully\n"
     ]
    }
   ],
   "source": [
    "hdfc = ATM_ver_2()"
   ]
  },
  {
   "cell_type": "code",
   "execution_count": 125,
   "id": "8d7a5b3f-3aed-45bf-a7c0-fcad2c6ec83d",
   "metadata": {},
   "outputs": [
    {
     "data": {
      "text/plain": [
       "2000"
      ]
     },
     "execution_count": 125,
     "metadata": {},
     "output_type": "execute_result"
    }
   ],
   "source": [
    "hdfc.balance"
   ]
  },
  {
   "cell_type": "code",
   "execution_count": 129,
   "id": "9e097cea-42c7-470f-b7ab-b21505e46bb0",
   "metadata": {},
   "outputs": [
    {
     "data": {
      "text/plain": [
       "1234"
      ]
     },
     "execution_count": 129,
     "metadata": {},
     "output_type": "execute_result"
    }
   ],
   "source": [
    "hdfc._ATM_ver_2__pin"
   ]
  },
  {
   "cell_type": "code",
   "execution_count": null,
   "id": "7456a236-0a46-4482-b638-039d100db2fd",
   "metadata": {},
   "outputs": [],
   "source": [
    "# ii)inheritance "
   ]
  },
  {
   "cell_type": "code",
   "execution_count": null,
   "id": "7fae0640-ced4-4ed2-bc57-da454e67cbdf",
   "metadata": {},
   "outputs": [],
   "source": [
    "#iii)polymorphism iv)Abstraction"
   ]
  },
  {
   "cell_type": "code",
   "execution_count": null,
   "id": "58a898f5-a32d-4a2b-8615-b8d2b60f65ae",
   "metadata": {},
   "outputs": [],
   "source": [
    "DAY-7"
   ]
  },
  {
   "cell_type": "code",
   "execution_count": 2,
   "id": "5abc8303-0bca-4b36-86d3-5ad13b2349bf",
   "metadata": {},
   "outputs": [],
   "source": [
    "class BMW:\n",
    "\n",
    "  def super_turbo_engine(self):\n",
    "    print('super_turbo_engine Fast Speed')\n",
    "\n",
    "class Audi(BMW):\n",
    "\n",
    "  def auto_pilot(self):\n",
    "    print('Can run on Auto Pilot Mode!!')"
   ]
  },
  {
   "cell_type": "code",
   "execution_count": 3,
   "id": "fa62b714-da9b-4f14-8452-0e2cc0820050",
   "metadata": {},
   "outputs": [],
   "source": [
    "audi_r8 = Audi()"
   ]
  },
  {
   "cell_type": "code",
   "execution_count": 4,
   "id": "63404007-e71b-449e-89b5-eaaefff27bfd",
   "metadata": {},
   "outputs": [
    {
     "name": "stdout",
     "output_type": "stream",
     "text": [
      "Can run on Auto Pilot Mode!!\n"
     ]
    }
   ],
   "source": [
    "audi_r8.auto_pilot()"
   ]
  },
  {
   "cell_type": "code",
   "execution_count": 5,
   "id": "1a29c989-f216-4b0b-a1bb-52b67d905637",
   "metadata": {},
   "outputs": [
    {
     "name": "stdout",
     "output_type": "stream",
     "text": [
      "super_turbo_engine Fast Speed\n"
     ]
    }
   ],
   "source": [
    "audi_r8.super_turbo_engine()"
   ]
  },
  {
   "cell_type": "code",
   "execution_count": 15,
   "id": "e85a9072-30d1-4a47-a256-977fff1ed01b",
   "metadata": {},
   "outputs": [],
   "source": [
    "class Daily_Object:\n",
    "  def phone_case(self):\n",
    "    print('Strong Build Phone Case')\n",
    "\n",
    "class JBL:\n",
    "  def sonic_speaker(self):\n",
    "    print('High Quality Sound Speaker')\n",
    "\n",
    "class Samsung:\n",
    "  def screen_display(self):\n",
    "    print('4k HD Display')\n",
    "\n",
    "class Nvidia:\n",
    "  def motherboard(self):\n",
    "    print('Fast motherboard')\n",
    "\n",
    "class Sony:\n",
    "  def camera(self):\n",
    "    print('4k Camera')\n",
    "\n",
    "class Lava:\n",
    "  def charger(self):\n",
    "    print('SuperFast Charger From LAVA')\n",
    "\n",
    "\n",
    "class One_Plus:\n",
    "  def charger(self):\n",
    "    print('Original Superfast Charger!! From One_Plus')\n",
    "\n",
    "\n",
    "class Mobile(Daily_Object,JBL,Samsung,Nvidia,Sony,One_Plus,Lava):\n",
    "  def __init__(self):\n",
    "    print('Phone Object Created Successfully!!')\n",
    "\n",
    "  def charger(self):\n",
    "    print('Actual Charger From Mobile!!')"
   ]
  },
  {
   "cell_type": "code",
   "execution_count": 10,
   "id": "3ea84040-1898-491f-a154-8dcecf0464e4",
   "metadata": {},
   "outputs": [
    {
     "name": "stdout",
     "output_type": "stream",
     "text": [
      "Phone Object Created Successfully!!\n"
     ]
    }
   ],
   "source": [
    "nothing = Mobile()"
   ]
  },
  {
   "cell_type": "code",
   "execution_count": 11,
   "id": "4f39bbce-452e-4b4a-8f64-c8faf6f82951",
   "metadata": {},
   "outputs": [
    {
     "name": "stdout",
     "output_type": "stream",
     "text": [
      "Strong Build Phone Case\n"
     ]
    }
   ],
   "source": [
    "nothing.phone_case()"
   ]
  },
  {
   "cell_type": "code",
   "execution_count": 12,
   "id": "cfddb336-c719-4b8f-bca5-5abfbec364a6",
   "metadata": {},
   "outputs": [
    {
     "name": "stdout",
     "output_type": "stream",
     "text": [
      "4k Camera\n"
     ]
    }
   ],
   "source": [
    "nothing.camera()"
   ]
  },
  {
   "cell_type": "code",
   "execution_count": 13,
   "id": "c6b3397c-6eb3-4e2f-bbe2-0dfcfad89c6b",
   "metadata": {},
   "outputs": [
    {
     "name": "stdout",
     "output_type": "stream",
     "text": [
      "4k HD Display\n"
     ]
    }
   ],
   "source": [
    "nothing.screen_display()"
   ]
  },
  {
   "cell_type": "code",
   "execution_count": 16,
   "id": "dc94f602-c531-49cc-a440-791682815473",
   "metadata": {},
   "outputs": [
    {
     "name": "stdout",
     "output_type": "stream",
     "text": [
      "SuperFast Charger\n"
     ]
    }
   ],
   "source": [
    "nothing.charger()"
   ]
  },
  {
   "cell_type": "code",
   "execution_count": 18,
   "id": "33d30876-90f4-427f-a6b8-0b95b0988aa1",
   "metadata": {},
   "outputs": [],
   "source": [
    "class GrandFather:\n",
    "  def land_property(self):\n",
    "    print('Land Property!!')\n",
    "\n",
    "class Father(GrandFather):\n",
    "  def bank_balance(self):\n",
    "    print('Big Money Player, Huge Bank Balance')\n",
    "\n",
    "class Son(Father):\n",
    "  def political_power(self):\n",
    "    print('Political Powers')\n",
    "\n",
    "class GrandSon(Son):\n",
    "  def mind(self):\n",
    "    print('Mind For Self Study!!')\n",
    "\n",
    "class Friend(GrandSon):\n",
    "  def __init__(self):\n",
    "    print('Nothing!!')"
   ]
  },
  {
   "cell_type": "code",
   "execution_count": 19,
   "id": "09b29b85-74d3-4648-a892-d2a1d194384a",
   "metadata": {},
   "outputs": [
    {
     "name": "stdout",
     "output_type": "stream",
     "text": [
      "Done\n"
     ]
    }
   ],
   "source": [
    "aman = GrandSon()\n",
    "print('Done')"
   ]
  },
  {
   "cell_type": "code",
   "execution_count": 20,
   "id": "4265c45d-9b3b-4ac2-b705-87ff7223c0cb",
   "metadata": {},
   "outputs": [],
   "source": [
    "class Hybrid_class(Mobile,Friend,Audi): # Mobile(Multiple), Friend(Multilevel)\n",
    "  def __init__(self):\n",
    "    print('This is a Hybrid Class')\n",
    "\n",
    "  def info(self):\n",
    "    print('It can call any methods!!')\n"
   ]
  },
  {
   "cell_type": "code",
   "execution_count": 21,
   "id": "0b21f357-face-486d-a9ca-aeac6a8efdc8",
   "metadata": {},
   "outputs": [
    {
     "name": "stdout",
     "output_type": "stream",
     "text": [
      "This is a Hybrid Class\n"
     ]
    }
   ],
   "source": [
    "ob = Hybrid_class()"
   ]
  },
  {
   "cell_type": "code",
   "execution_count": 22,
   "id": "cce8971a-9d34-4d7e-b5b0-d68026343c9b",
   "metadata": {},
   "outputs": [
    {
     "name": "stdout",
     "output_type": "stream",
     "text": [
      "It can call any methods!!\n"
     ]
    }
   ],
   "source": [
    "ob.info()"
   ]
  },
  {
   "cell_type": "code",
   "execution_count": null,
   "id": "11415bae-fe99-4bac-bde6-5a8ee605ce70",
   "metadata": {},
   "outputs": [],
   "source": [
    "class UGC:  # Parent Class\n",
    "  def __init__(self):\n",
    "    print('Grant Permission')\n",
    "  def college_approved(self):\n",
    "    print('College Has been Approved')\n",
    "\n",
    "class DU:\n",
    "  def multiple_colleges(self):\n",
    "    print('List of Colleges!!')\n",
    "\n",
    "class IP:\n",
    "  def multiple_colleges(self):\n",
    "    print('List of Colleges!!')\n",
    "\n",
    "\n",
    "class DTU:\n",
    "  def multiple_colleges(self):\n",
    "    print('List of Colleges!!')\n",
    "\n",
    "class BHU:\n",
    "  def multiple_colleges(self):\n",
    "    print('List of Colleges!!')"
   ]
  },
  {
   "cell_type": "code",
   "execution_count": 24,
   "id": "8fbdd09e-ae1e-4d04-a732-0106f4cc25b6",
   "metadata": {},
   "outputs": [
    {
     "name": "stdout",
     "output_type": "stream",
     "text": [
      "F1 Car Speed:  Max speed 200 km/hr\n",
      "F1 Car Speed:  Max speed 250 km/hr\n",
      "F1 Car Speed:  Max speed 300 km/hr\n"
     ]
    }
   ],
   "source": [
    "class Car:\n",
    "  def speed(self):\n",
    "    return('Max speed 200 km/hr')\n",
    "\n",
    "  def auto_pilot(self):\n",
    "    return('It supports Auto Pilot Mode!!')\n",
    "\n",
    "  def info(self):\n",
    "    return('This is just a car object')\n",
    "\n",
    "\n",
    "class Bmw(Car):\n",
    "  def speed(self):\n",
    "    return('Max speed 250 km/hr')\n",
    "\n",
    "  def info(self):\n",
    "    return('A BMW car object')\n",
    "\n",
    "\n",
    "\n",
    "class Audi(Car):\n",
    "  def speed(self):\n",
    "    return('Max speed 300 km/hr')\n",
    "\n",
    "  def info(self):\n",
    "    return('Audi car🏎️')\n",
    "\n",
    "\n",
    "\n",
    "\n",
    "\n",
    "for i in [Car,Bmw,Audi]:\n",
    "  f1 = i()\n",
    "  print('F1 Car Speed: ',f1.speed())\n",
    "\n"
   ]
  },
  {
   "cell_type": "code",
   "execution_count": 25,
   "id": "c357252a-ed48-4662-93a3-e6e95d7762cb",
   "metadata": {},
   "outputs": [
    {
     "name": "stdout",
     "output_type": "stream",
     "text": [
      "Max speed 200 km/hr\n"
     ]
    }
   ],
   "source": [
    "f1 = Car()\n",
    "print(f1.speed())"
   ]
  },
  {
   "cell_type": "code",
   "execution_count": 26,
   "id": "71677ac9-790c-4723-b096-8d02eeb730ac",
   "metadata": {},
   "outputs": [
    {
     "name": "stdout",
     "output_type": "stream",
     "text": [
      "Max speed 250 km/hr\n"
     ]
    }
   ],
   "source": [
    "f1 = Bmw()\n",
    "print(f1.speed())"
   ]
  },
  {
   "cell_type": "code",
   "execution_count": 29,
   "id": "b74cade1-8171-4644-bbe5-bfd496a714f4",
   "metadata": {},
   "outputs": [
    {
     "name": "stdout",
     "output_type": "stream",
     "text": [
      "Hello Mandal,ki_haal_chaal??\n",
      "Your Address is Delhi\n"
     ]
    }
   ],
   "source": [
    "class IITM:\n",
    "\n",
    "  def intro(self):\n",
    "    print('Hello Candidates!!')\n",
    "\n",
    "  def intro(self,name):\n",
    "    print(f'Hello {name},how are you??')\n",
    "\n",
    "  def intro(self,name,address):\n",
    "    print(f'Hello {name},ki_haal_chaal??')\n",
    "    print(f'Your Address is {address}')\n",
    "\n",
    "a = IITM()\n",
    "\n",
    "a.intro('Mandal','Delhi')"
   ]
  },
  {
   "cell_type": "code",
   "execution_count": 31,
   "id": "b0b6a9ce-f1fe-4932-9594-6d49ebc6cabc",
   "metadata": {},
   "outputs": [],
   "source": [
    "class IITM:\n",
    "\n",
    "  def intro(self,name = None,address = None):\n",
    "    if (name == None) and (address == None):\n",
    "      print('Hello Candidates!!')\n",
    "\n",
    "    elif name != None and (address == None):\n",
    "      print(f'Hello {name},how are you??')\n",
    "\n",
    "    elif (name != None) and  (address != None):\n",
    "      print(f'Hello {name},how are you??')\n",
    "      print(f'Your Address is {address}')\n",
    "\n",
    "    else:\n",
    "      print('Hello Buddy!!')"
   ]
  },
  {
   "cell_type": "code",
   "execution_count": 32,
   "id": "455d54c1-f5d7-4808-adff-ab257720f701",
   "metadata": {},
   "outputs": [
    {
     "name": "stdout",
     "output_type": "stream",
     "text": [
      "Hello Candidates!!\n"
     ]
    }
   ],
   "source": [
    "a = IITM()\n",
    "a.intro()"
   ]
  },
  {
   "cell_type": "code",
   "execution_count": null,
   "id": "98d4feac-79c5-4ebf-8698-1e0be1e08e00",
   "metadata": {},
   "outputs": [],
   "source": []
  }
 ],
 "metadata": {
  "kernelspec": {
   "display_name": "Python [conda env:base] *",
   "language": "python",
   "name": "conda-base-py"
  },
  "language_info": {
   "codemirror_mode": {
    "name": "ipython",
    "version": 3
   },
   "file_extension": ".py",
   "mimetype": "text/x-python",
   "name": "python",
   "nbconvert_exporter": "python",
   "pygments_lexer": "ipython3",
   "version": "3.13.5"
  }
 },
 "nbformat": 4,
 "nbformat_minor": 5
}
