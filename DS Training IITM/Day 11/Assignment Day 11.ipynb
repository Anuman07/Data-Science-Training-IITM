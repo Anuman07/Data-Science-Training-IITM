{
 "cells": [
  {
   "cell_type": "code",
   "execution_count": 1,
   "id": "4a5fa8b4",
   "metadata": {},
   "outputs": [],
   "source": [
    "# DataTypes Pandas\n",
    "# Read File\n",
    "# Head\n",
    "# Info\n",
    "# tail\n",
    "# Sample\n",
    "# describe\n",
    "# corr\n",
    "# columns\n",
    "# index\n",
    "# isna\n",
    "# fillna\n",
    "# replace\n",
    "# drop\n",
    "# outliers detection\n",
    "# plots\n",
    "# masking\n",
    "# group by\n",
    "# pivot table\n",
    "# Analysis"
   ]
  },
  {
   "cell_type": "code",
   "execution_count": 2,
   "id": "6bfbe912",
   "metadata": {},
   "outputs": [
    {
     "name": "stdout",
     "output_type": "stream",
     "text": [
      "Defaulting to user installation because normal site-packages is not writeable\n",
      "Collecting kagglehub\n",
      "  Downloading kagglehub-0.3.12-py3-none-any.whl (67 kB)\n",
      "Requirement already satisfied: pyyaml in d:\\new folder\\lib\\site-packages (from kagglehub) (6.0)\n",
      "Requirement already satisfied: packaging in d:\\new folder\\lib\\site-packages (from kagglehub) (21.3)\n",
      "Requirement already satisfied: tqdm in d:\\new folder\\lib\\site-packages (from kagglehub) (4.64.0)\n",
      "Requirement already satisfied: requests in d:\\new folder\\lib\\site-packages (from kagglehub) (2.27.1)\n",
      "Requirement already satisfied: pyparsing!=3.0.5,>=2.0.2 in d:\\new folder\\lib\\site-packages (from packaging->kagglehub) (3.0.4)\n",
      "Requirement already satisfied: urllib3<1.27,>=1.21.1 in d:\\new folder\\lib\\site-packages (from requests->kagglehub) (1.26.9)\n",
      "Requirement already satisfied: certifi>=2017.4.17 in d:\\new folder\\lib\\site-packages (from requests->kagglehub) (2021.10.8)\n",
      "Requirement already satisfied: charset-normalizer~=2.0.0 in d:\\new folder\\lib\\site-packages (from requests->kagglehub) (2.0.4)\n",
      "Requirement already satisfied: idna<4,>=2.5 in d:\\new folder\\lib\\site-packages (from requests->kagglehub) (3.3)\n",
      "Requirement already satisfied: colorama in d:\\new folder\\lib\\site-packages (from tqdm->kagglehub) (0.4.4)\n",
      "Installing collected packages: kagglehub\n",
      "Successfully installed kagglehub-0.3.12\n",
      "Note: you may need to restart the kernel to use updated packages.\n"
     ]
    }
   ],
   "source": [
    "pip install kagglehub"
   ]
  },
  {
   "cell_type": "code",
   "execution_count": 3,
   "id": "f42fafd7",
   "metadata": {},
   "outputs": [
    {
     "name": "stdout",
     "output_type": "stream",
     "text": [
      "Downloading from https://www.kaggle.com/api/v1/datasets/download/riddhivernekar/cardekho-dataset?dataset_version_number=1...\n"
     ]
    },
    {
     "name": "stderr",
     "output_type": "stream",
     "text": [
      "100%|████████████████████████████████████████████████████████████████████████████████| 230k/230k [00:00<00:00, 414kB/s]"
     ]
    },
    {
     "name": "stdout",
     "output_type": "stream",
     "text": [
      "Extracting files...\n",
      "Path to dataset files: C:\\Users\\ratna\\.cache\\kagglehub\\datasets\\riddhivernekar\\cardekho-dataset\\versions\\1\n"
     ]
    },
    {
     "name": "stderr",
     "output_type": "stream",
     "text": [
      "\n"
     ]
    }
   ],
   "source": [
    "import kagglehub\n",
    "\n",
    "# Download latest version\n",
    "path = kagglehub.dataset_download(\"riddhivernekar/cardekho-dataset\")\n",
    "\n",
    "print(\"Path to dataset files:\", path)"
   ]
  },
  {
   "cell_type": "code",
   "execution_count": 7,
   "id": "428f8bd5",
   "metadata": {},
   "outputs": [
    {
     "data": {
      "text/plain": [
       "['cardekho_dataset.csv']"
      ]
     },
     "execution_count": 7,
     "metadata": {},
     "output_type": "execute_result"
    }
   ],
   "source": [
    "import os\n",
    "all_files = os.listdir(path)\n",
    "all_files"
   ]
  },
  {
   "cell_type": "code",
   "execution_count": 8,
   "id": "73c7cdee",
   "metadata": {},
   "outputs": [
    {
     "data": {
      "text/plain": [
       "'C:\\\\Users\\\\ratna\\\\.cache\\\\kagglehub\\\\datasets\\\\riddhivernekar\\\\cardekho-dataset\\\\versions\\\\1\\\\cardekho_dataset.csv'"
      ]
     },
     "execution_count": 8,
     "metadata": {},
     "output_type": "execute_result"
    }
   ],
   "source": [
    "file_path = path + '\\\\' + all_files[0]\n",
    "file_path"
   ]
  },
  {
   "cell_type": "code",
   "execution_count": 10,
   "id": "256d1301",
   "metadata": {},
   "outputs": [
    {
     "name": "stdout",
     "output_type": "stream",
     "text": [
      "Done\n"
     ]
    }
   ],
   "source": [
    "import pandas as pd \n",
    "df = pd.read_csv(file_path)\n",
    "print('Done')"
   ]
  },
  {
   "cell_type": "code",
   "execution_count": 11,
   "id": "4a6042e5",
   "metadata": {},
   "outputs": [],
   "source": [
    "# Step 1\n",
    "# Module Import\n",
    "\n",
    "# Step 2\n",
    "# File Read\n",
    "\n",
    "# Step 3"
   ]
  },
  {
   "cell_type": "code",
   "execution_count": 12,
   "id": "8a96a8e2",
   "metadata": {},
   "outputs": [
    {
     "data": {
      "text/html": [
       "<div>\n",
       "<style scoped>\n",
       "    .dataframe tbody tr th:only-of-type {\n",
       "        vertical-align: middle;\n",
       "    }\n",
       "\n",
       "    .dataframe tbody tr th {\n",
       "        vertical-align: top;\n",
       "    }\n",
       "\n",
       "    .dataframe thead th {\n",
       "        text-align: right;\n",
       "    }\n",
       "</style>\n",
       "<table border=\"1\" class=\"dataframe\">\n",
       "  <thead>\n",
       "    <tr style=\"text-align: right;\">\n",
       "      <th></th>\n",
       "      <th>Unnamed: 0</th>\n",
       "      <th>car_name</th>\n",
       "      <th>brand</th>\n",
       "      <th>model</th>\n",
       "      <th>vehicle_age</th>\n",
       "      <th>km_driven</th>\n",
       "      <th>seller_type</th>\n",
       "      <th>fuel_type</th>\n",
       "      <th>transmission_type</th>\n",
       "      <th>mileage</th>\n",
       "      <th>engine</th>\n",
       "      <th>max_power</th>\n",
       "      <th>seats</th>\n",
       "      <th>selling_price</th>\n",
       "    </tr>\n",
       "  </thead>\n",
       "  <tbody>\n",
       "    <tr>\n",
       "      <th>0</th>\n",
       "      <td>0</td>\n",
       "      <td>Maruti Alto</td>\n",
       "      <td>Maruti</td>\n",
       "      <td>Alto</td>\n",
       "      <td>9</td>\n",
       "      <td>120000</td>\n",
       "      <td>Individual</td>\n",
       "      <td>Petrol</td>\n",
       "      <td>Manual</td>\n",
       "      <td>19.70</td>\n",
       "      <td>796</td>\n",
       "      <td>46.30</td>\n",
       "      <td>5</td>\n",
       "      <td>120000</td>\n",
       "    </tr>\n",
       "    <tr>\n",
       "      <th>1</th>\n",
       "      <td>1</td>\n",
       "      <td>Hyundai Grand</td>\n",
       "      <td>Hyundai</td>\n",
       "      <td>Grand</td>\n",
       "      <td>5</td>\n",
       "      <td>20000</td>\n",
       "      <td>Individual</td>\n",
       "      <td>Petrol</td>\n",
       "      <td>Manual</td>\n",
       "      <td>18.90</td>\n",
       "      <td>1197</td>\n",
       "      <td>82.00</td>\n",
       "      <td>5</td>\n",
       "      <td>550000</td>\n",
       "    </tr>\n",
       "    <tr>\n",
       "      <th>2</th>\n",
       "      <td>2</td>\n",
       "      <td>Hyundai i20</td>\n",
       "      <td>Hyundai</td>\n",
       "      <td>i20</td>\n",
       "      <td>11</td>\n",
       "      <td>60000</td>\n",
       "      <td>Individual</td>\n",
       "      <td>Petrol</td>\n",
       "      <td>Manual</td>\n",
       "      <td>17.00</td>\n",
       "      <td>1197</td>\n",
       "      <td>80.00</td>\n",
       "      <td>5</td>\n",
       "      <td>215000</td>\n",
       "    </tr>\n",
       "    <tr>\n",
       "      <th>3</th>\n",
       "      <td>3</td>\n",
       "      <td>Maruti Alto</td>\n",
       "      <td>Maruti</td>\n",
       "      <td>Alto</td>\n",
       "      <td>9</td>\n",
       "      <td>37000</td>\n",
       "      <td>Individual</td>\n",
       "      <td>Petrol</td>\n",
       "      <td>Manual</td>\n",
       "      <td>20.92</td>\n",
       "      <td>998</td>\n",
       "      <td>67.10</td>\n",
       "      <td>5</td>\n",
       "      <td>226000</td>\n",
       "    </tr>\n",
       "    <tr>\n",
       "      <th>4</th>\n",
       "      <td>4</td>\n",
       "      <td>Ford Ecosport</td>\n",
       "      <td>Ford</td>\n",
       "      <td>Ecosport</td>\n",
       "      <td>6</td>\n",
       "      <td>30000</td>\n",
       "      <td>Dealer</td>\n",
       "      <td>Diesel</td>\n",
       "      <td>Manual</td>\n",
       "      <td>22.77</td>\n",
       "      <td>1498</td>\n",
       "      <td>98.59</td>\n",
       "      <td>5</td>\n",
       "      <td>570000</td>\n",
       "    </tr>\n",
       "  </tbody>\n",
       "</table>\n",
       "</div>"
      ],
      "text/plain": [
       "   Unnamed: 0       car_name    brand     model  vehicle_age  km_driven  \\\n",
       "0           0    Maruti Alto   Maruti      Alto            9     120000   \n",
       "1           1  Hyundai Grand  Hyundai     Grand            5      20000   \n",
       "2           2    Hyundai i20  Hyundai       i20           11      60000   \n",
       "3           3    Maruti Alto   Maruti      Alto            9      37000   \n",
       "4           4  Ford Ecosport     Ford  Ecosport            6      30000   \n",
       "\n",
       "  seller_type fuel_type transmission_type  mileage  engine  max_power  seats  \\\n",
       "0  Individual    Petrol            Manual    19.70     796      46.30      5   \n",
       "1  Individual    Petrol            Manual    18.90    1197      82.00      5   \n",
       "2  Individual    Petrol            Manual    17.00    1197      80.00      5   \n",
       "3  Individual    Petrol            Manual    20.92     998      67.10      5   \n",
       "4      Dealer    Diesel            Manual    22.77    1498      98.59      5   \n",
       "\n",
       "   selling_price  \n",
       "0         120000  \n",
       "1         550000  \n",
       "2         215000  \n",
       "3         226000  \n",
       "4         570000  "
      ]
     },
     "execution_count": 12,
     "metadata": {},
     "output_type": "execute_result"
    }
   ],
   "source": [
    "df.head()"
   ]
  },
  {
   "cell_type": "code",
   "execution_count": 13,
   "id": "83f25f8b",
   "metadata": {},
   "outputs": [
    {
     "data": {
      "text/html": [
       "<div>\n",
       "<style scoped>\n",
       "    .dataframe tbody tr th:only-of-type {\n",
       "        vertical-align: middle;\n",
       "    }\n",
       "\n",
       "    .dataframe tbody tr th {\n",
       "        vertical-align: top;\n",
       "    }\n",
       "\n",
       "    .dataframe thead th {\n",
       "        text-align: right;\n",
       "    }\n",
       "</style>\n",
       "<table border=\"1\" class=\"dataframe\">\n",
       "  <thead>\n",
       "    <tr style=\"text-align: right;\">\n",
       "      <th></th>\n",
       "      <th>Unnamed: 0</th>\n",
       "      <th>car_name</th>\n",
       "      <th>brand</th>\n",
       "      <th>model</th>\n",
       "      <th>vehicle_age</th>\n",
       "      <th>km_driven</th>\n",
       "      <th>seller_type</th>\n",
       "      <th>fuel_type</th>\n",
       "      <th>transmission_type</th>\n",
       "      <th>mileage</th>\n",
       "      <th>engine</th>\n",
       "      <th>max_power</th>\n",
       "      <th>seats</th>\n",
       "      <th>selling_price</th>\n",
       "    </tr>\n",
       "  </thead>\n",
       "  <tbody>\n",
       "    <tr>\n",
       "      <th>15406</th>\n",
       "      <td>19537</td>\n",
       "      <td>Hyundai i10</td>\n",
       "      <td>Hyundai</td>\n",
       "      <td>i10</td>\n",
       "      <td>9</td>\n",
       "      <td>10723</td>\n",
       "      <td>Dealer</td>\n",
       "      <td>Petrol</td>\n",
       "      <td>Manual</td>\n",
       "      <td>19.81</td>\n",
       "      <td>1086</td>\n",
       "      <td>68.05</td>\n",
       "      <td>5</td>\n",
       "      <td>250000</td>\n",
       "    </tr>\n",
       "    <tr>\n",
       "      <th>15407</th>\n",
       "      <td>19540</td>\n",
       "      <td>Maruti Ertiga</td>\n",
       "      <td>Maruti</td>\n",
       "      <td>Ertiga</td>\n",
       "      <td>2</td>\n",
       "      <td>18000</td>\n",
       "      <td>Dealer</td>\n",
       "      <td>Petrol</td>\n",
       "      <td>Manual</td>\n",
       "      <td>17.50</td>\n",
       "      <td>1373</td>\n",
       "      <td>91.10</td>\n",
       "      <td>7</td>\n",
       "      <td>925000</td>\n",
       "    </tr>\n",
       "    <tr>\n",
       "      <th>15408</th>\n",
       "      <td>19541</td>\n",
       "      <td>Skoda Rapid</td>\n",
       "      <td>Skoda</td>\n",
       "      <td>Rapid</td>\n",
       "      <td>6</td>\n",
       "      <td>67000</td>\n",
       "      <td>Dealer</td>\n",
       "      <td>Diesel</td>\n",
       "      <td>Manual</td>\n",
       "      <td>21.14</td>\n",
       "      <td>1498</td>\n",
       "      <td>103.52</td>\n",
       "      <td>5</td>\n",
       "      <td>425000</td>\n",
       "    </tr>\n",
       "    <tr>\n",
       "      <th>15409</th>\n",
       "      <td>19542</td>\n",
       "      <td>Mahindra XUV500</td>\n",
       "      <td>Mahindra</td>\n",
       "      <td>XUV500</td>\n",
       "      <td>5</td>\n",
       "      <td>3800000</td>\n",
       "      <td>Dealer</td>\n",
       "      <td>Diesel</td>\n",
       "      <td>Manual</td>\n",
       "      <td>16.00</td>\n",
       "      <td>2179</td>\n",
       "      <td>140.00</td>\n",
       "      <td>7</td>\n",
       "      <td>1225000</td>\n",
       "    </tr>\n",
       "    <tr>\n",
       "      <th>15410</th>\n",
       "      <td>19543</td>\n",
       "      <td>Honda City</td>\n",
       "      <td>Honda</td>\n",
       "      <td>City</td>\n",
       "      <td>2</td>\n",
       "      <td>13000</td>\n",
       "      <td>Dealer</td>\n",
       "      <td>Petrol</td>\n",
       "      <td>Automatic</td>\n",
       "      <td>18.00</td>\n",
       "      <td>1497</td>\n",
       "      <td>117.60</td>\n",
       "      <td>5</td>\n",
       "      <td>1200000</td>\n",
       "    </tr>\n",
       "  </tbody>\n",
       "</table>\n",
       "</div>"
      ],
      "text/plain": [
       "       Unnamed: 0         car_name     brand   model  vehicle_age  km_driven  \\\n",
       "15406       19537      Hyundai i10   Hyundai     i10            9      10723   \n",
       "15407       19540    Maruti Ertiga    Maruti  Ertiga            2      18000   \n",
       "15408       19541      Skoda Rapid     Skoda   Rapid            6      67000   \n",
       "15409       19542  Mahindra XUV500  Mahindra  XUV500            5    3800000   \n",
       "15410       19543       Honda City     Honda    City            2      13000   \n",
       "\n",
       "      seller_type fuel_type transmission_type  mileage  engine  max_power  \\\n",
       "15406      Dealer    Petrol            Manual    19.81    1086      68.05   \n",
       "15407      Dealer    Petrol            Manual    17.50    1373      91.10   \n",
       "15408      Dealer    Diesel            Manual    21.14    1498     103.52   \n",
       "15409      Dealer    Diesel            Manual    16.00    2179     140.00   \n",
       "15410      Dealer    Petrol         Automatic    18.00    1497     117.60   \n",
       "\n",
       "       seats  selling_price  \n",
       "15406      5         250000  \n",
       "15407      7         925000  \n",
       "15408      5         425000  \n",
       "15409      7        1225000  \n",
       "15410      5        1200000  "
      ]
     },
     "execution_count": 13,
     "metadata": {},
     "output_type": "execute_result"
    }
   ],
   "source": [
    "df.tail()"
   ]
  },
  {
   "cell_type": "code",
   "execution_count": 14,
   "id": "51c79c5e",
   "metadata": {},
   "outputs": [
    {
     "name": "stdout",
     "output_type": "stream",
     "text": [
      "<class 'pandas.core.frame.DataFrame'>\n",
      "RangeIndex: 15411 entries, 0 to 15410\n",
      "Data columns (total 14 columns):\n",
      " #   Column             Non-Null Count  Dtype  \n",
      "---  ------             --------------  -----  \n",
      " 0   Unnamed: 0         15411 non-null  int64  \n",
      " 1   car_name           15411 non-null  object \n",
      " 2   brand              15411 non-null  object \n",
      " 3   model              15411 non-null  object \n",
      " 4   vehicle_age        15411 non-null  int64  \n",
      " 5   km_driven          15411 non-null  int64  \n",
      " 6   seller_type        15411 non-null  object \n",
      " 7   fuel_type          15411 non-null  object \n",
      " 8   transmission_type  15411 non-null  object \n",
      " 9   mileage            15411 non-null  float64\n",
      " 10  engine             15411 non-null  int64  \n",
      " 11  max_power          15411 non-null  float64\n",
      " 12  seats              15411 non-null  int64  \n",
      " 13  selling_price      15411 non-null  int64  \n",
      "dtypes: float64(2), int64(6), object(6)\n",
      "memory usage: 1.6+ MB\n"
     ]
    }
   ],
   "source": [
    "df.info()"
   ]
  },
  {
   "cell_type": "code",
   "execution_count": 15,
   "id": "573614ed",
   "metadata": {},
   "outputs": [],
   "source": [
    "#object data type is categorical data type"
   ]
  },
  {
   "cell_type": "code",
   "execution_count": 19,
   "id": "34b329b6",
   "metadata": {},
   "outputs": [
    {
     "name": "stdout",
     "output_type": "stream",
     "text": [
      "Dataset contains\n",
      "Rows: 15411\n",
      "Columns: 14\n"
     ]
    }
   ],
   "source": [
    "r,c = df.shape\n",
    "print(f'''Dataset contains\n",
    "Rows: {r}\n",
    "Columns: {c}''')"
   ]
  },
  {
   "cell_type": "code",
   "execution_count": 20,
   "id": "cd2c3923",
   "metadata": {},
   "outputs": [],
   "source": [
    "# Data munging\n",
    "# Data rangling"
   ]
  },
  {
   "cell_type": "code",
   "execution_count": 21,
   "id": "5f7bda0d",
   "metadata": {},
   "outputs": [
    {
     "data": {
      "text/plain": [
       "Index(['Unnamed: 0', 'car_name', 'brand', 'model', 'vehicle_age', 'km_driven',\n",
       "       'seller_type', 'fuel_type', 'transmission_type', 'mileage', 'engine',\n",
       "       'max_power', 'seats', 'selling_price'],\n",
       "      dtype='object')"
      ]
     },
     "execution_count": 21,
     "metadata": {},
     "output_type": "execute_result"
    }
   ],
   "source": [
    "# List of columns\n",
    "df.columns"
   ]
  },
  {
   "cell_type": "code",
   "execution_count": 38,
   "id": "be86df95",
   "metadata": {},
   "outputs": [],
   "source": [
    "df.drop('Unnamed: 0', axis = 1, inplace = True)"
   ]
  },
  {
   "cell_type": "code",
   "execution_count": 39,
   "id": "4398f085",
   "metadata": {},
   "outputs": [
    {
     "data": {
      "text/html": [
       "<div>\n",
       "<style scoped>\n",
       "    .dataframe tbody tr th:only-of-type {\n",
       "        vertical-align: middle;\n",
       "    }\n",
       "\n",
       "    .dataframe tbody tr th {\n",
       "        vertical-align: top;\n",
       "    }\n",
       "\n",
       "    .dataframe thead th {\n",
       "        text-align: right;\n",
       "    }\n",
       "</style>\n",
       "<table border=\"1\" class=\"dataframe\">\n",
       "  <thead>\n",
       "    <tr style=\"text-align: right;\">\n",
       "      <th></th>\n",
       "      <th>car_name</th>\n",
       "      <th>brand</th>\n",
       "      <th>model</th>\n",
       "      <th>vehicle_age</th>\n",
       "      <th>km_driven</th>\n",
       "      <th>seller_type</th>\n",
       "      <th>fuel_type</th>\n",
       "      <th>transmission_type</th>\n",
       "      <th>mileage</th>\n",
       "      <th>engine</th>\n",
       "      <th>max_power</th>\n",
       "      <th>seats</th>\n",
       "      <th>selling_price</th>\n",
       "    </tr>\n",
       "  </thead>\n",
       "  <tbody>\n",
       "    <tr>\n",
       "      <th>7117</th>\n",
       "      <td>Honda Amaze</td>\n",
       "      <td>Honda</td>\n",
       "      <td>Amaze</td>\n",
       "      <td>5</td>\n",
       "      <td>41200</td>\n",
       "      <td>Dealer</td>\n",
       "      <td>Petrol</td>\n",
       "      <td>Manual</td>\n",
       "      <td>18.60</td>\n",
       "      <td>1199</td>\n",
       "      <td>88.76</td>\n",
       "      <td>5</td>\n",
       "      <td>349000</td>\n",
       "    </tr>\n",
       "    <tr>\n",
       "      <th>10117</th>\n",
       "      <td>Hyundai i10</td>\n",
       "      <td>Hyundai</td>\n",
       "      <td>i10</td>\n",
       "      <td>11</td>\n",
       "      <td>53000</td>\n",
       "      <td>Individual</td>\n",
       "      <td>Petrol</td>\n",
       "      <td>Manual</td>\n",
       "      <td>20.36</td>\n",
       "      <td>1197</td>\n",
       "      <td>78.90</td>\n",
       "      <td>5</td>\n",
       "      <td>170000</td>\n",
       "    </tr>\n",
       "    <tr>\n",
       "      <th>5734</th>\n",
       "      <td>Toyota Fortuner</td>\n",
       "      <td>Toyota</td>\n",
       "      <td>Fortuner</td>\n",
       "      <td>4</td>\n",
       "      <td>43200</td>\n",
       "      <td>Individual</td>\n",
       "      <td>Diesel</td>\n",
       "      <td>Manual</td>\n",
       "      <td>14.24</td>\n",
       "      <td>2755</td>\n",
       "      <td>174.50</td>\n",
       "      <td>7</td>\n",
       "      <td>2450000</td>\n",
       "    </tr>\n",
       "  </tbody>\n",
       "</table>\n",
       "</div>"
      ],
      "text/plain": [
       "              car_name    brand     model  vehicle_age  km_driven seller_type  \\\n",
       "7117       Honda Amaze    Honda     Amaze            5      41200      Dealer   \n",
       "10117      Hyundai i10  Hyundai       i10           11      53000  Individual   \n",
       "5734   Toyota Fortuner   Toyota  Fortuner            4      43200  Individual   \n",
       "\n",
       "      fuel_type transmission_type  mileage  engine  max_power  seats  \\\n",
       "7117     Petrol            Manual    18.60    1199      88.76      5   \n",
       "10117    Petrol            Manual    20.36    1197      78.90      5   \n",
       "5734     Diesel            Manual    14.24    2755     174.50      7   \n",
       "\n",
       "       selling_price  \n",
       "7117          349000  \n",
       "10117         170000  \n",
       "5734         2450000  "
      ]
     },
     "execution_count": 39,
     "metadata": {},
     "output_type": "execute_result"
    }
   ],
   "source": [
    "df.sample(3)\n",
    "# it tell us samples od dataset"
   ]
  },
  {
   "cell_type": "code",
   "execution_count": 40,
   "id": "6d59ea44",
   "metadata": {},
   "outputs": [
    {
     "data": {
      "text/plain": [
       "RangeIndex(start=0, stop=15411, step=1)"
      ]
     },
     "execution_count": 40,
     "metadata": {},
     "output_type": "execute_result"
    }
   ],
   "source": [
    "df.index \n",
    "# it tell us the index range"
   ]
  },
  {
   "cell_type": "code",
   "execution_count": 26,
   "id": "0045ee00",
   "metadata": {},
   "outputs": [
    {
     "data": {
      "text/plain": [
       "Unnamed: 0           0\n",
       "car_name             0\n",
       "brand                0\n",
       "model                0\n",
       "vehicle_age          0\n",
       "km_driven            0\n",
       "seller_type          0\n",
       "fuel_type            0\n",
       "transmission_type    0\n",
       "mileage              0\n",
       "engine               0\n",
       "max_power            0\n",
       "seats                0\n",
       "selling_price        0\n",
       "dtype: int64"
      ]
     },
     "execution_count": 26,
     "metadata": {},
     "output_type": "execute_result"
    }
   ],
   "source": [
    "#missing value\n",
    "df.isna().sum() #zero represents no notnull value found"
   ]
  },
  {
   "cell_type": "code",
   "execution_count": 41,
   "id": "076d4cef",
   "metadata": {},
   "outputs": [
    {
     "data": {
      "text/plain": [
       "car_name             0\n",
       "brand                0\n",
       "model                0\n",
       "vehicle_age          0\n",
       "km_driven            0\n",
       "seller_type          0\n",
       "fuel_type            0\n",
       "transmission_type    0\n",
       "mileage              0\n",
       "engine               0\n",
       "max_power            0\n",
       "seats                0\n",
       "selling_price        0\n",
       "dtype: int64"
      ]
     },
     "execution_count": 41,
     "metadata": {},
     "output_type": "execute_result"
    }
   ],
   "source": [
    "df.isnull().sum()"
   ]
  },
  {
   "cell_type": "code",
   "execution_count": 29,
   "id": "0be6a8f3",
   "metadata": {},
   "outputs": [],
   "source": [
    "# Graph/visuals : heat map"
   ]
  },
  {
   "cell_type": "code",
   "execution_count": 42,
   "id": "c0093466",
   "metadata": {},
   "outputs": [
    {
     "data": {
      "text/plain": [
       "<AxesSubplot:>"
      ]
     },
     "execution_count": 42,
     "metadata": {},
     "output_type": "execute_result"
    },
    {
     "data": {
      "image/png": "[encoded data removed]",
      "text/plain": [
       "<Figure size 432x288 with 2 Axes>"
      ]
     },
     "metadata": {
      "needs_background": "light"
     },
     "output_type": "display_data"
    }
   ],
   "source": [
    "import seaborn as sns \n",
    "sns.heatmap(df.isnull(),)"
   ]
  },
  {
   "cell_type": "code",
   "execution_count": 35,
   "id": "41f57770",
   "metadata": {},
   "outputs": [],
   "source": [
    "# Missing Values\n",
    "# Replace/ Fill/ Remove/ Ignore"
   ]
  },
  {
   "cell_type": "code",
   "execution_count": 43,
   "id": "95c08fc5",
   "metadata": {},
   "outputs": [
    {
     "data": {
      "text/html": [
       "<div>\n",
       "<style scoped>\n",
       "    .dataframe tbody tr th:only-of-type {\n",
       "        vertical-align: middle;\n",
       "    }\n",
       "\n",
       "    .dataframe tbody tr th {\n",
       "        vertical-align: top;\n",
       "    }\n",
       "\n",
       "    .dataframe thead th {\n",
       "        text-align: right;\n",
       "    }\n",
       "</style>\n",
       "<table border=\"1\" class=\"dataframe\">\n",
       "  <thead>\n",
       "    <tr style=\"text-align: right;\">\n",
       "      <th></th>\n",
       "      <th>vehicle_age</th>\n",
       "      <th>km_driven</th>\n",
       "      <th>mileage</th>\n",
       "      <th>engine</th>\n",
       "      <th>max_power</th>\n",
       "      <th>seats</th>\n",
       "      <th>selling_price</th>\n",
       "    </tr>\n",
       "  </thead>\n",
       "  <tbody>\n",
       "    <tr>\n",
       "      <th>count</th>\n",
       "      <td>15411.0</td>\n",
       "      <td>15411.0</td>\n",
       "      <td>15411.0</td>\n",
       "      <td>15411.0</td>\n",
       "      <td>15411.0</td>\n",
       "      <td>15411.0</td>\n",
       "      <td>15411.0</td>\n",
       "    </tr>\n",
       "    <tr>\n",
       "      <th>mean</th>\n",
       "      <td>6.0</td>\n",
       "      <td>55616.0</td>\n",
       "      <td>20.0</td>\n",
       "      <td>1486.0</td>\n",
       "      <td>101.0</td>\n",
       "      <td>5.0</td>\n",
       "      <td>774971.0</td>\n",
       "    </tr>\n",
       "    <tr>\n",
       "      <th>std</th>\n",
       "      <td>3.0</td>\n",
       "      <td>51619.0</td>\n",
       "      <td>4.0</td>\n",
       "      <td>521.0</td>\n",
       "      <td>43.0</td>\n",
       "      <td>1.0</td>\n",
       "      <td>894128.0</td>\n",
       "    </tr>\n",
       "    <tr>\n",
       "      <th>min</th>\n",
       "      <td>0.0</td>\n",
       "      <td>100.0</td>\n",
       "      <td>4.0</td>\n",
       "      <td>793.0</td>\n",
       "      <td>38.0</td>\n",
       "      <td>0.0</td>\n",
       "      <td>40000.0</td>\n",
       "    </tr>\n",
       "    <tr>\n",
       "      <th>25%</th>\n",
       "      <td>4.0</td>\n",
       "      <td>30000.0</td>\n",
       "      <td>17.0</td>\n",
       "      <td>1197.0</td>\n",
       "      <td>74.0</td>\n",
       "      <td>5.0</td>\n",
       "      <td>385000.0</td>\n",
       "    </tr>\n",
       "    <tr>\n",
       "      <th>50%</th>\n",
       "      <td>6.0</td>\n",
       "      <td>50000.0</td>\n",
       "      <td>20.0</td>\n",
       "      <td>1248.0</td>\n",
       "      <td>88.0</td>\n",
       "      <td>5.0</td>\n",
       "      <td>556000.0</td>\n",
       "    </tr>\n",
       "    <tr>\n",
       "      <th>75%</th>\n",
       "      <td>8.0</td>\n",
       "      <td>70000.0</td>\n",
       "      <td>23.0</td>\n",
       "      <td>1582.0</td>\n",
       "      <td>117.0</td>\n",
       "      <td>5.0</td>\n",
       "      <td>825000.0</td>\n",
       "    </tr>\n",
       "    <tr>\n",
       "      <th>max</th>\n",
       "      <td>29.0</td>\n",
       "      <td>3800000.0</td>\n",
       "      <td>34.0</td>\n",
       "      <td>6592.0</td>\n",
       "      <td>626.0</td>\n",
       "      <td>9.0</td>\n",
       "      <td>39500000.0</td>\n",
       "    </tr>\n",
       "  </tbody>\n",
       "</table>\n",
       "</div>"
      ],
      "text/plain": [
       "       vehicle_age  km_driven  mileage   engine  max_power    seats  \\\n",
       "count      15411.0    15411.0  15411.0  15411.0    15411.0  15411.0   \n",
       "mean           6.0    55616.0     20.0   1486.0      101.0      5.0   \n",
       "std            3.0    51619.0      4.0    521.0       43.0      1.0   \n",
       "min            0.0      100.0      4.0    793.0       38.0      0.0   \n",
       "25%            4.0    30000.0     17.0   1197.0       74.0      5.0   \n",
       "50%            6.0    50000.0     20.0   1248.0       88.0      5.0   \n",
       "75%            8.0    70000.0     23.0   1582.0      117.0      5.0   \n",
       "max           29.0  3800000.0     34.0   6592.0      626.0      9.0   \n",
       "\n",
       "       selling_price  \n",
       "count        15411.0  \n",
       "mean        774971.0  \n",
       "std         894128.0  \n",
       "min          40000.0  \n",
       "25%         385000.0  \n",
       "50%         556000.0  \n",
       "75%         825000.0  \n",
       "max       39500000.0  "
      ]
     },
     "execution_count": 43,
     "metadata": {},
     "output_type": "execute_result"
    }
   ],
   "source": [
    "# Statstical Analysis\n",
    "# Stats: by-default: numerical(): Ignore: object/category\n",
    "\n",
    "df.describe().round()"
   ]
  },
  {
   "cell_type": "code",
   "execution_count": 48,
   "id": "55dacb95",
   "metadata": {},
   "outputs": [
    {
     "data": {
      "text/html": [
       "<div>\n",
       "<style scoped>\n",
       "    .dataframe tbody tr th:only-of-type {\n",
       "        vertical-align: middle;\n",
       "    }\n",
       "\n",
       "    .dataframe tbody tr th {\n",
       "        vertical-align: top;\n",
       "    }\n",
       "\n",
       "    .dataframe thead th {\n",
       "        text-align: right;\n",
       "    }\n",
       "</style>\n",
       "<table border=\"1\" class=\"dataframe\">\n",
       "  <thead>\n",
       "    <tr style=\"text-align: right;\">\n",
       "      <th></th>\n",
       "      <th>car_name</th>\n",
       "      <th>brand</th>\n",
       "      <th>model</th>\n",
       "      <th>seller_type</th>\n",
       "      <th>fuel_type</th>\n",
       "      <th>transmission_type</th>\n",
       "    </tr>\n",
       "  </thead>\n",
       "  <tbody>\n",
       "    <tr>\n",
       "      <th>count</th>\n",
       "      <td>15411</td>\n",
       "      <td>15411</td>\n",
       "      <td>15411</td>\n",
       "      <td>15411</td>\n",
       "      <td>15411</td>\n",
       "      <td>15411</td>\n",
       "    </tr>\n",
       "    <tr>\n",
       "      <th>unique</th>\n",
       "      <td>121</td>\n",
       "      <td>32</td>\n",
       "      <td>120</td>\n",
       "      <td>3</td>\n",
       "      <td>5</td>\n",
       "      <td>2</td>\n",
       "    </tr>\n",
       "    <tr>\n",
       "      <th>top</th>\n",
       "      <td>Hyundai i20</td>\n",
       "      <td>Maruti</td>\n",
       "      <td>i20</td>\n",
       "      <td>Dealer</td>\n",
       "      <td>Petrol</td>\n",
       "      <td>Manual</td>\n",
       "    </tr>\n",
       "    <tr>\n",
       "      <th>freq</th>\n",
       "      <td>906</td>\n",
       "      <td>4992</td>\n",
       "      <td>906</td>\n",
       "      <td>9539</td>\n",
       "      <td>7643</td>\n",
       "      <td>12225</td>\n",
       "    </tr>\n",
       "  </tbody>\n",
       "</table>\n",
       "</div>"
      ],
      "text/plain": [
       "           car_name   brand  model seller_type fuel_type transmission_type\n",
       "count         15411   15411  15411       15411     15411             15411\n",
       "unique          121      32    120           3         5                 2\n",
       "top     Hyundai i20  Maruti    i20      Dealer    Petrol            Manual\n",
       "freq            906    4992    906        9539      7643             12225"
      ]
     },
     "execution_count": 48,
     "metadata": {},
     "output_type": "execute_result"
    }
   ],
   "source": [
    "df.describe(include=['O'])  # O: represents object"
   ]
  },
  {
   "cell_type": "code",
   "execution_count": 49,
   "id": "dcc2e59c",
   "metadata": {},
   "outputs": [],
   "source": [
    "# Findings:\n",
    "# Car dekho website has most demanded model i20 freq: 906"
   ]
  },
  {
   "cell_type": "code",
   "execution_count": 50,
   "id": "b5cc779a",
   "metadata": {},
   "outputs": [],
   "source": [
    "# Analysis\n",
    "# Univariate, Bivariate and Multivariate data and its analysis\n",
    "# Univariate,: Single col\n",
    "# Bivariate : double col\n",
    "# Multivariate: more than 2 col"
   ]
  },
  {
   "cell_type": "code",
   "execution_count": 52,
   "id": "2cc46723",
   "metadata": {},
   "outputs": [],
   "source": [
    "# univariate: single col analysis"
   ]
  },
  {
   "cell_type": "code",
   "execution_count": 79,
   "id": "829b2c7b",
   "metadata": {},
   "outputs": [],
   "source": [
    "cat_col = list(df.describe(include=['O']).columns)\n",
    "num_col = list(df.describe().columns)"
   ]
  },
  {
   "cell_type": "code",
   "execution_count": 80,
   "id": "ea71c4a3",
   "metadata": {},
   "outputs": [
    {
     "name": "stdout",
     "output_type": "stream",
     "text": [
      "['car_name', 'brand', 'model', 'seller_type', 'fuel_type', 'transmission_type']\n"
     ]
    }
   ],
   "source": [
    "print(cat_col)"
   ]
  },
  {
   "cell_type": "code",
   "execution_count": 81,
   "id": "bc26a36a",
   "metadata": {},
   "outputs": [
    {
     "name": "stdout",
     "output_type": "stream",
     "text": [
      "['vehicle_age', 'km_driven', 'mileage', 'engine', 'max_power', 'seats', 'selling_price']\n"
     ]
    }
   ],
   "source": [
    "print(num_col)"
   ]
  },
  {
   "cell_type": "code",
   "execution_count": 82,
   "id": "8c654225",
   "metadata": {},
   "outputs": [],
   "source": [
    "# unique ununique, dattype"
   ]
  },
  {
   "cell_type": "code",
   "execution_count": 83,
   "id": "303b9561",
   "metadata": {},
   "outputs": [
    {
     "name": "stdout",
     "output_type": "stream",
     "text": [
      "<class 'pandas.core.frame.DataFrame'>\n"
     ]
    }
   ],
   "source": [
    "print(type(df))"
   ]
  },
  {
   "cell_type": "code",
   "execution_count": 84,
   "id": "04425ad8",
   "metadata": {},
   "outputs": [],
   "source": [
    "# Series: single columns(series)"
   ]
  },
  {
   "cell_type": "code",
   "execution_count": 85,
   "id": "da025d6d",
   "metadata": {},
   "outputs": [
    {
     "name": "stdout",
     "output_type": "stream",
     "text": [
      "<class 'pandas.core.series.Series'>\n"
     ]
    }
   ],
   "source": [
    "print(type(df['car_name']))"
   ]
  },
  {
   "cell_type": "code",
   "execution_count": 86,
   "id": "3e51a720",
   "metadata": {},
   "outputs": [
    {
     "data": {
      "text/plain": [
       "Hyundai i20           906\n",
       "Maruti Swift Dzire    890\n",
       "Maruti Swift          781\n",
       "Maruti Alto           778\n",
       "Honda City            757\n",
       "Maruti Wagon R        717\n",
       "Hyundai Grand         580\n",
       "Toyota Innova         545\n",
       "Hyundai Verna         492\n",
       "Hyundai i10           410\n",
       "Name: car_name, dtype: int64"
      ]
     },
     "execution_count": 86,
     "metadata": {},
     "output_type": "execute_result"
    }
   ],
   "source": [
    "df['car_name'].value_counts().head(10) #top 10 cars by name"
   ]
  },
  {
   "cell_type": "code",
   "execution_count": 87,
   "id": "970f0e76",
   "metadata": {},
   "outputs": [
    {
     "data": {
      "text/plain": [
       "Maruti Dzire LXI         2\n",
       "Isuzu MUX                1\n",
       "Maserati Quattroporte    1\n",
       "Rolls-Royce Ghost        1\n",
       "Maserati Ghibli          1\n",
       "Mercedes-AMG C           1\n",
       "Tata Altroz              1\n",
       "Ferrari GTC4Lusso        1\n",
       "Hyundai Aura             1\n",
       "Force Gurkha             1\n",
       "Name: car_name, dtype: int64"
      ]
     },
     "execution_count": 87,
     "metadata": {},
     "output_type": "execute_result"
    }
   ],
   "source": [
    "df['car_name'].value_counts().tail(10) #bottom 10 cars by name"
   ]
  },
  {
   "cell_type": "code",
   "execution_count": 88,
   "id": "cf403756",
   "metadata": {
    "scrolled": false
   },
   "outputs": [
    {
     "name": "stdout",
     "output_type": "stream",
     "text": [
      "\n",
      "\n",
      "Top 10 Analysis by car_name\n",
      "\n"
     ]
    },
    {
     "data": {
      "text/plain": [
       "Hyundai i20           906\n",
       "Maruti Swift Dzire    890\n",
       "Maruti Swift          781\n",
       "Maruti Alto           778\n",
       "Honda City            757\n",
       "Maruti Wagon R        717\n",
       "Hyundai Grand         580\n",
       "Toyota Innova         545\n",
       "Hyundai Verna         492\n",
       "Hyundai i10           410\n",
       "Name: car_name, dtype: int64"
      ]
     },
     "metadata": {},
     "output_type": "display_data"
    },
    {
     "name": "stdout",
     "output_type": "stream",
     "text": [
      "\n",
      "\n",
      "Top 10 Analysis by brand\n",
      "\n"
     ]
    },
    {
     "data": {
      "text/plain": [
       "Maruti        4992\n",
       "Hyundai       2982\n",
       "Honda         1485\n",
       "Mahindra      1011\n",
       "Toyota         793\n",
       "Ford           790\n",
       "Volkswagen     620\n",
       "Renault        536\n",
       "BMW            439\n",
       "Tata           430\n",
       "Name: brand, dtype: int64"
      ]
     },
     "metadata": {},
     "output_type": "display_data"
    },
    {
     "name": "stdout",
     "output_type": "stream",
     "text": [
      "\n",
      "\n",
      "Top 10 Analysis by model\n",
      "\n"
     ]
    },
    {
     "data": {
      "text/plain": [
       "i20            906\n",
       "Swift Dzire    890\n",
       "Swift          781\n",
       "Alto           778\n",
       "City           757\n",
       "Wagon R        717\n",
       "Grand          580\n",
       "Innova         545\n",
       "Verna          492\n",
       "i10            410\n",
       "Name: model, dtype: int64"
      ]
     },
     "metadata": {},
     "output_type": "display_data"
    },
    {
     "name": "stdout",
     "output_type": "stream",
     "text": [
      "\n",
      "\n",
      "Top 10 Analysis by seller_type\n",
      "\n"
     ]
    },
    {
     "data": {
      "text/plain": [
       "Dealer              9539\n",
       "Individual          5699\n",
       "Trustmark Dealer     173\n",
       "Name: seller_type, dtype: int64"
      ]
     },
     "metadata": {},
     "output_type": "display_data"
    },
    {
     "name": "stdout",
     "output_type": "stream",
     "text": [
      "\n",
      "\n",
      "Top 10 Analysis by fuel_type\n",
      "\n"
     ]
    },
    {
     "data": {
      "text/plain": [
       "Petrol      7643\n",
       "Diesel      7419\n",
       "CNG          301\n",
       "LPG           44\n",
       "Electric       4\n",
       "Name: fuel_type, dtype: int64"
      ]
     },
     "metadata": {},
     "output_type": "display_data"
    },
    {
     "name": "stdout",
     "output_type": "stream",
     "text": [
      "\n",
      "\n",
      "Top 10 Analysis by transmission_type\n",
      "\n"
     ]
    },
    {
     "data": {
      "text/plain": [
       "Manual       12225\n",
       "Automatic     3186\n",
       "Name: transmission_type, dtype: int64"
      ]
     },
     "metadata": {},
     "output_type": "display_data"
    }
   ],
   "source": [
    "# Top 10 Analysis for categorical columns\n",
    "\n",
    "for i in cat_col:\n",
    "    print(f'\\n\\nTop 10 Analysis by {i}\\n')\n",
    "    display(df[i].value_counts().head(10))"
   ]
  },
  {
   "cell_type": "code",
   "execution_count": 90,
   "id": "de3cfaba",
   "metadata": {},
   "outputs": [
    {
     "name": "stdout",
     "output_type": "stream",
     "text": [
      "\n",
      "\n",
      "Top 10 Analysis by car_name\n",
      "\n"
     ]
    },
    {
     "data": {
      "text/plain": [
       "Hyundai i20           13.21\n",
       "Maruti Swift Dzire    12.98\n",
       "Maruti Swift          11.39\n",
       "Maruti Alto           11.35\n",
       "Honda City            11.04\n",
       "Maruti Wagon R        10.46\n",
       "Hyundai Grand          8.46\n",
       "Toyota Innova          7.95\n",
       "Hyundai Verna          7.18\n",
       "Hyundai i10            5.98\n",
       "Name: car_name, dtype: float64"
      ]
     },
     "metadata": {},
     "output_type": "display_data"
    },
    {
     "name": "stdout",
     "output_type": "stream",
     "text": [
      "\n",
      "\n",
      "Top 10 Analysis by brand\n",
      "\n"
     ]
    },
    {
     "data": {
      "text/plain": [
       "Maruti        35.46\n",
       "Hyundai       21.18\n",
       "Honda         10.55\n",
       "Mahindra       7.18\n",
       "Toyota         5.63\n",
       "Ford           5.61\n",
       "Volkswagen     4.40\n",
       "Renault        3.81\n",
       "BMW            3.12\n",
       "Tata           3.05\n",
       "Name: brand, dtype: float64"
      ]
     },
     "metadata": {},
     "output_type": "display_data"
    },
    {
     "name": "stdout",
     "output_type": "stream",
     "text": [
      "\n",
      "\n",
      "Top 10 Analysis by model\n",
      "\n"
     ]
    },
    {
     "data": {
      "text/plain": [
       "i20            13.21\n",
       "Swift Dzire    12.98\n",
       "Swift          11.39\n",
       "Alto           11.35\n",
       "City           11.04\n",
       "Wagon R        10.46\n",
       "Grand           8.46\n",
       "Innova          7.95\n",
       "Verna           7.18\n",
       "i10             5.98\n",
       "Name: model, dtype: float64"
      ]
     },
     "metadata": {},
     "output_type": "display_data"
    },
    {
     "name": "stdout",
     "output_type": "stream",
     "text": [
      "\n",
      "\n",
      "Top 10 Analysis by seller_type\n",
      "\n"
     ]
    },
    {
     "data": {
      "text/plain": [
       "Dealer              61.90\n",
       "Individual          36.98\n",
       "Trustmark Dealer     1.12\n",
       "Name: seller_type, dtype: float64"
      ]
     },
     "metadata": {},
     "output_type": "display_data"
    },
    {
     "name": "stdout",
     "output_type": "stream",
     "text": [
      "\n",
      "\n",
      "Top 10 Analysis by fuel_type\n",
      "\n"
     ]
    },
    {
     "data": {
      "text/plain": [
       "Petrol      49.59\n",
       "Diesel      48.14\n",
       "CNG          1.95\n",
       "LPG          0.29\n",
       "Electric     0.03\n",
       "Name: fuel_type, dtype: float64"
      ]
     },
     "metadata": {},
     "output_type": "display_data"
    },
    {
     "name": "stdout",
     "output_type": "stream",
     "text": [
      "\n",
      "\n",
      "Top 10 Analysis by transmission_type\n",
      "\n"
     ]
    },
    {
     "data": {
      "text/plain": [
       "Manual       79.33\n",
       "Automatic    20.67\n",
       "Name: transmission_type, dtype: float64"
      ]
     },
     "metadata": {},
     "output_type": "display_data"
    }
   ],
   "source": [
    "# Top 10 percentage Analysis for categorical columns\n",
    "\n",
    "for i in cat_col:\n",
    "    print(f'\\n\\nTop 10 Analysis by {i}\\n')\n",
    "    top_10 = df[i].value_counts().head(10)\n",
    "    ans = (top_10/top_10.sum())*100\n",
    "    \n",
    "    display(ans.round(2))"
   ]
  },
  {
   "cell_type": "code",
   "execution_count": 92,
   "id": "3085833e",
   "metadata": {},
   "outputs": [
    {
     "name": "stdout",
     "output_type": "stream",
     "text": [
      "\n",
      "\n",
      "Bottom 10 Analysis by car_name\n",
      "\n"
     ]
    },
    {
     "data": {
      "text/plain": [
       "Maruti Dzire LXI         2\n",
       "Isuzu MUX                1\n",
       "Maserati Quattroporte    1\n",
       "Rolls-Royce Ghost        1\n",
       "Maserati Ghibli          1\n",
       "Mercedes-AMG C           1\n",
       "Tata Altroz              1\n",
       "Ferrari GTC4Lusso        1\n",
       "Hyundai Aura             1\n",
       "Force Gurkha             1\n",
       "Name: car_name, dtype: int64"
      ]
     },
     "metadata": {},
     "output_type": "display_data"
    },
    {
     "name": "stdout",
     "output_type": "stream",
     "text": [
      "\n",
      "\n",
      "Bottom 10 Analysis by brand\n",
      "\n"
     ]
    },
    {
     "data": {
      "text/plain": [
       "Nissan          11\n",
       "Lexus           10\n",
       "Isuzu            8\n",
       "Bentley          3\n",
       "Maserati         2\n",
       "ISUZU            2\n",
       "Ferrari          1\n",
       "Mercedes-AMG     1\n",
       "Rolls-Royce      1\n",
       "Force            1\n",
       "Name: brand, dtype: int64"
      ]
     },
     "metadata": {},
     "output_type": "display_data"
    },
    {
     "name": "stdout",
     "output_type": "stream",
     "text": [
      "\n",
      "\n",
      "Bottom 10 Analysis by model\n",
      "\n"
     ]
    },
    {
     "data": {
      "text/plain": [
       "NX              2\n",
       "Dzire LXI       2\n",
       "Quattroporte    1\n",
       "Ghost           1\n",
       "C               1\n",
       "Ghibli          1\n",
       "Altroz          1\n",
       "GTC4Lusso       1\n",
       "Aura            1\n",
       "Gurkha          1\n",
       "Name: model, dtype: int64"
      ]
     },
     "metadata": {},
     "output_type": "display_data"
    },
    {
     "name": "stdout",
     "output_type": "stream",
     "text": [
      "\n",
      "\n",
      "Bottom 10 Analysis by seller_type\n",
      "\n"
     ]
    },
    {
     "data": {
      "text/plain": [
       "Dealer              9539\n",
       "Individual          5699\n",
       "Trustmark Dealer     173\n",
       "Name: seller_type, dtype: int64"
      ]
     },
     "metadata": {},
     "output_type": "display_data"
    },
    {
     "name": "stdout",
     "output_type": "stream",
     "text": [
      "\n",
      "\n",
      "Bottom 10 Analysis by fuel_type\n",
      "\n"
     ]
    },
    {
     "data": {
      "text/plain": [
       "Petrol      7643\n",
       "Diesel      7419\n",
       "CNG          301\n",
       "LPG           44\n",
       "Electric       4\n",
       "Name: fuel_type, dtype: int64"
      ]
     },
     "metadata": {},
     "output_type": "display_data"
    },
    {
     "name": "stdout",
     "output_type": "stream",
     "text": [
      "\n",
      "\n",
      "Bottom 10 Analysis by transmission_type\n",
      "\n"
     ]
    },
    {
     "data": {
      "text/plain": [
       "Manual       12225\n",
       "Automatic     3186\n",
       "Name: transmission_type, dtype: int64"
      ]
     },
     "metadata": {},
     "output_type": "display_data"
    }
   ],
   "source": [
    "# Bottom 10 Analysis for categorical columns\n",
    "\n",
    "for i in cat_col:\n",
    "    print(f'\\n\\nBottom 10 Analysis by {i}\\n')\n",
    "    display(df[i].value_counts().tail(10))"
   ]
  },
  {
   "cell_type": "code",
   "execution_count": 100,
   "id": "8663655e",
   "metadata": {},
   "outputs": [
    {
     "data": {
      "text/plain": [
       "<AxesSubplot:ylabel='car_name'>"
      ]
     },
     "execution_count": 100,
     "metadata": {},
     "output_type": "execute_result"
    },
    {
     "data": {
      "image/png": "[encoded data removed]",
      "text/plain": [
       "<Figure size 432x288 with 1 Axes>"
      ]
     },
     "metadata": {},
     "output_type": "display_data"
    }
   ],
   "source": [
    "df['car_name'].value_counts().head(10).plot(kind = 'pie',autopct = '%.2f%%')"
   ]
  },
  {
   "cell_type": "code",
   "execution_count": 133,
   "id": "bab3da11",
   "metadata": {},
   "outputs": [],
   "source": [
    "import matplotlib.pyplot as plt\n",
    "def graph_plot(col_name):\n",
    "    \n",
    "    x = df[col_name].value_counts().head(10).index\n",
    "    y = df[col_name].value_counts().head(10).values\n",
    "\n",
    "    plt.figure(figsize = (8,3))\n",
    "    plt.title(f' Top 10 {col_name} By Inventory', fontsize = 20, color = 'Indigo')\n",
    "\n",
    "    # ax = plt.bar(x,y,color = 'blue')\n",
    "    ax = plt.bar(x,y,color = sns.color_palette('rainbow',10))\n",
    "    plt.bar_label(ax)\n",
    "\n",
    "    plt.xticks(rotation = 45)\n",
    "    plt.show()"
   ]
  },
  {
   "cell_type": "code",
   "execution_count": 134,
   "id": "280f92f6",
   "metadata": {},
   "outputs": [
    {
     "data": {
      "image/png": "[encoded data removed]",
      "text/plain": [
       "<Figure size 576x216 with 1 Axes>"
      ]
     },
     "metadata": {
      "needs_background": "light"
     },
     "output_type": "display_data"
    },
    {
     "data": {
      "image/png": "[encoded data removed]",
      "text/plain": [
       "<Figure size 576x216 with 1 Axes>"
      ]
     },
     "metadata": {
      "needs_background": "light"
     },
     "output_type": "display_data"
    },
    {
     "data": {
      "image/png": "[encoded data removed]",
      "text/plain": [
       "<Figure size 576x216 with 1 Axes>"
      ]
     },
     "metadata": {
      "needs_background": "light"
     },
     "output_type": "display_data"
    },
    {
     "data": {
      "image/png": "[encoded data removed]",
      "text/plain": [
       "<Figure size 576x216 with 1 Axes>"
      ]
     },
     "metadata": {
      "needs_background": "light"
     },
     "output_type": "display_data"
    },
    {
     "data": {
      "image/png": "[encoded data removed]",
      "text/plain": [
       "<Figure size 576x216 with 1 Axes>"
      ]
     },
     "metadata": {
      "needs_background": "light"
     },
     "output_type": "display_data"
    },
    {
     "data": {
      "image/png": "[encoded data removed]",
      "text/plain": [
       "<Figure size 576x216 with 1 Axes>"
      ]
     },
     "metadata": {
      "needs_background": "light"
     },
     "output_type": "display_data"
    }
   ],
   "source": [
    "for i in cat_col:\n",
    "    graph_plot(i)"
   ]
  },
  {
   "cell_type": "code",
   "execution_count": 135,
   "id": "2a039a93",
   "metadata": {},
   "outputs": [
    {
     "data": {
      "text/plain": [
       "<AxesSubplot:ylabel='Frequency'>"
      ]
     },
     "execution_count": 135,
     "metadata": {},
     "output_type": "execute_result"
    },
    {
     "data": {
      "image/png": "[encoded data removed]",
      "text/plain": [
       "<Figure size 432x288 with 1 Axes>"
      ]
     },
     "metadata": {
      "needs_background": "light"
     },
     "output_type": "display_data"
    }
   ],
   "source": [
    "df['selling_price'].plot(kind = 'hist')"
   ]
  },
  {
   "cell_type": "code",
   "execution_count": 153,
   "id": "8e12fb95",
   "metadata": {},
   "outputs": [],
   "source": [
    "import numpy as np \n",
    "\n",
    "def plot_hist(col_name,bin_size = 100):\n",
    "    \n",
    "    x = df[col_name].value_counts().index\n",
    "    y = df[col_name].value_counts().values\n",
    "    \n",
    "    plt.title(f'\\n\\n{col_name} Sales Distribution Analysis'.title(), fontsize = 20, color = 'Indigo')\n",
    "    plt.hist(df[col_name],color = 'red',bins = np.linspace(df[col_name].min(),df[col_name].max(),bin_size))\n",
    "    plt.show()"
   ]
  },
  {
   "cell_type": "code",
   "execution_count": 154,
   "id": "28ea4954",
   "metadata": {},
   "outputs": [
    {
     "data": {
      "image/png": "[encoded data removed]",
      "text/plain": [
       "<Figure size 432x288 with 1 Axes>"
      ]
     },
     "metadata": {
      "needs_background": "light"
     },
     "output_type": "display_data"
    }
   ],
   "source": [
    "plot_hist('engine')"
   ]
  },
  {
   "cell_type": "code",
   "execution_count": 156,
   "id": "611aa6e0",
   "metadata": {},
   "outputs": [
    {
     "data": {
      "image/png": "[encoded data removed]",
      "text/plain": [
       "<Figure size 432x288 with 1 Axes>"
      ]
     },
     "metadata": {
      "needs_background": "light"
     },
     "output_type": "display_data"
    },
    {
     "data": {
      "image/png": "[encoded data removed]",
      "text/plain": [
       "<Figure size 432x288 with 1 Axes>"
      ]
     },
     "metadata": {
      "needs_background": "light"
     },
     "output_type": "display_data"
    },
    {
     "data": {
      "image/png": "[encoded data removed]",
      "text/plain": [
       "<Figure size 432x288 with 1 Axes>"
      ]
     },
     "metadata": {
      "needs_background": "light"
     },
     "output_type": "display_data"
    },
    {
     "data": {
      "image/png": "[encoded data removed]",
      "text/plain": [
       "<Figure size 432x288 with 1 Axes>"
      ]
     },
     "metadata": {
      "needs_background": "light"
     },
     "output_type": "display_data"
    },
    {
     "data": {
      "image/png": "[encoded data removed]",
      "text/plain": [
       "<Figure size 432x288 with 1 Axes>"
      ]
     },
     "metadata": {
      "needs_background": "light"
     },
     "output_type": "display_data"
    },
    {
     "data": {
      "image/png": "[encoded data removed]",
      "text/plain": [
       "<Figure size 432x288 with 1 Axes>"
      ]
     },
     "metadata": {
      "needs_background": "light"
     },
     "output_type": "display_data"
    },
    {
     "data": {
      "image/png": "[encoded data removed]",
      "text/plain": [
       "<Figure size 432x288 with 1 Axes>"
      ]
     },
     "metadata": {
      "needs_background": "light"
     },
     "output_type": "display_data"
    }
   ],
   "source": [
    "for i in num_col:\n",
    "    plot_hist(i)"
   ]
  },
  {
   "cell_type": "code",
   "execution_count": 157,
   "id": "ac95eff9",
   "metadata": {},
   "outputs": [],
   "source": [
    "# How to filter DataFrame\n",
    "# Masking Technique"
   ]
  },
  {
   "cell_type": "code",
   "execution_count": 159,
   "id": "f3f990d9",
   "metadata": {},
   "outputs": [
    {
     "data": {
      "text/plain": [
       "Index(['car_name', 'brand', 'model', 'vehicle_age', 'km_driven', 'seller_type',\n",
       "       'fuel_type', 'transmission_type', 'mileage', 'engine', 'max_power',\n",
       "       'seats', 'selling_price'],\n",
       "      dtype='object')"
      ]
     },
     "execution_count": 159,
     "metadata": {},
     "output_type": "execute_result"
    }
   ],
   "source": [
    "df.columns"
   ]
  },
  {
   "cell_type": "code",
   "execution_count": 160,
   "id": "882f77bc",
   "metadata": {},
   "outputs": [
    {
     "data": {
      "text/plain": [
       "4.0"
      ]
     },
     "execution_count": 160,
     "metadata": {},
     "output_type": "execute_result"
    }
   ],
   "source": [
    "df['mileage'].min()"
   ]
  },
  {
   "cell_type": "code",
   "execution_count": 162,
   "id": "efad7f95",
   "metadata": {},
   "outputs": [
    {
     "data": {
      "text/html": [
       "<div>\n",
       "<style scoped>\n",
       "    .dataframe tbody tr th:only-of-type {\n",
       "        vertical-align: middle;\n",
       "    }\n",
       "\n",
       "    .dataframe tbody tr th {\n",
       "        vertical-align: top;\n",
       "    }\n",
       "\n",
       "    .dataframe thead th {\n",
       "        text-align: right;\n",
       "    }\n",
       "</style>\n",
       "<table border=\"1\" class=\"dataframe\">\n",
       "  <thead>\n",
       "    <tr style=\"text-align: right;\">\n",
       "      <th></th>\n",
       "      <th>car_name</th>\n",
       "      <th>brand</th>\n",
       "      <th>model</th>\n",
       "      <th>vehicle_age</th>\n",
       "      <th>km_driven</th>\n",
       "      <th>seller_type</th>\n",
       "      <th>fuel_type</th>\n",
       "      <th>transmission_type</th>\n",
       "      <th>mileage</th>\n",
       "      <th>engine</th>\n",
       "      <th>max_power</th>\n",
       "      <th>seats</th>\n",
       "      <th>selling_price</th>\n",
       "    </tr>\n",
       "  </thead>\n",
       "  <tbody>\n",
       "    <tr>\n",
       "      <th>3799</th>\n",
       "      <td>Ferrari GTC4Lusso</td>\n",
       "      <td>Ferrari</td>\n",
       "      <td>GTC4Lusso</td>\n",
       "      <td>2</td>\n",
       "      <td>3800</td>\n",
       "      <td>Dealer</td>\n",
       "      <td>Petrol</td>\n",
       "      <td>Automatic</td>\n",
       "      <td>4.0</td>\n",
       "      <td>3855</td>\n",
       "      <td>601.0</td>\n",
       "      <td>4</td>\n",
       "      <td>39500000</td>\n",
       "    </tr>\n",
       "  </tbody>\n",
       "</table>\n",
       "</div>"
      ],
      "text/plain": [
       "               car_name    brand      model  vehicle_age  km_driven  \\\n",
       "3799  Ferrari GTC4Lusso  Ferrari  GTC4Lusso            2       3800   \n",
       "\n",
       "     seller_type fuel_type transmission_type  mileage  engine  max_power  \\\n",
       "3799      Dealer    Petrol         Automatic      4.0    3855      601.0   \n",
       "\n",
       "      seats  selling_price  \n",
       "3799      4       39500000  "
      ]
     },
     "execution_count": 162,
     "metadata": {},
     "output_type": "execute_result"
    }
   ],
   "source": [
    "df[df['mileage']==df['mileage'].min()] #Minmum Mileage"
   ]
  },
  {
   "cell_type": "code",
   "execution_count": 163,
   "id": "ad6a155c",
   "metadata": {},
   "outputs": [
    {
     "data": {
      "text/plain": [
       "33.54"
      ]
     },
     "execution_count": 163,
     "metadata": {},
     "output_type": "execute_result"
    }
   ],
   "source": [
    "df['mileage'].max()"
   ]
  },
  {
   "cell_type": "code",
   "execution_count": 166,
   "id": "a030dd1a",
   "metadata": {},
   "outputs": [
    {
     "data": {
      "text/html": [
       "<div>\n",
       "<style scoped>\n",
       "    .dataframe tbody tr th:only-of-type {\n",
       "        vertical-align: middle;\n",
       "    }\n",
       "\n",
       "    .dataframe tbody tr th {\n",
       "        vertical-align: top;\n",
       "    }\n",
       "\n",
       "    .dataframe thead th {\n",
       "        text-align: right;\n",
       "    }\n",
       "</style>\n",
       "<table border=\"1\" class=\"dataframe\">\n",
       "  <thead>\n",
       "    <tr style=\"text-align: right;\">\n",
       "      <th></th>\n",
       "      <th>car_name</th>\n",
       "      <th>brand</th>\n",
       "      <th>model</th>\n",
       "      <th>vehicle_age</th>\n",
       "      <th>km_driven</th>\n",
       "      <th>seller_type</th>\n",
       "      <th>fuel_type</th>\n",
       "      <th>transmission_type</th>\n",
       "      <th>mileage</th>\n",
       "      <th>engine</th>\n",
       "      <th>max_power</th>\n",
       "      <th>seats</th>\n",
       "      <th>selling_price</th>\n",
       "    </tr>\n",
       "  </thead>\n",
       "  <tbody>\n",
       "    <tr>\n",
       "      <th>169</th>\n",
       "      <td>Maruti Wagon R</td>\n",
       "      <td>Maruti</td>\n",
       "      <td>Wagon R</td>\n",
       "      <td>3</td>\n",
       "      <td>52000</td>\n",
       "      <td>Dealer</td>\n",
       "      <td>CNG</td>\n",
       "      <td>Manual</td>\n",
       "      <td>33.54</td>\n",
       "      <td>998</td>\n",
       "      <td>67.04</td>\n",
       "      <td>5</td>\n",
       "      <td>435000</td>\n",
       "    </tr>\n",
       "    <tr>\n",
       "      <th>182</th>\n",
       "      <td>Maruti Wagon R</td>\n",
       "      <td>Maruti</td>\n",
       "      <td>Wagon R</td>\n",
       "      <td>8</td>\n",
       "      <td>64000</td>\n",
       "      <td>Dealer</td>\n",
       "      <td>CNG</td>\n",
       "      <td>Manual</td>\n",
       "      <td>33.54</td>\n",
       "      <td>998</td>\n",
       "      <td>67.04</td>\n",
       "      <td>5</td>\n",
       "      <td>270000</td>\n",
       "    </tr>\n",
       "    <tr>\n",
       "      <th>1250</th>\n",
       "      <td>Maruti Wagon R</td>\n",
       "      <td>Maruti</td>\n",
       "      <td>Wagon R</td>\n",
       "      <td>4</td>\n",
       "      <td>32013</td>\n",
       "      <td>Trustmark Dealer</td>\n",
       "      <td>CNG</td>\n",
       "      <td>Manual</td>\n",
       "      <td>33.54</td>\n",
       "      <td>998</td>\n",
       "      <td>67.04</td>\n",
       "      <td>5</td>\n",
       "      <td>380000</td>\n",
       "    </tr>\n",
       "    <tr>\n",
       "      <th>1574</th>\n",
       "      <td>Maruti Wagon R</td>\n",
       "      <td>Maruti</td>\n",
       "      <td>Wagon R</td>\n",
       "      <td>6</td>\n",
       "      <td>55000</td>\n",
       "      <td>Dealer</td>\n",
       "      <td>CNG</td>\n",
       "      <td>Manual</td>\n",
       "      <td>33.54</td>\n",
       "      <td>998</td>\n",
       "      <td>67.04</td>\n",
       "      <td>5</td>\n",
       "      <td>335000</td>\n",
       "    </tr>\n",
       "    <tr>\n",
       "      <th>2271</th>\n",
       "      <td>Maruti Wagon R</td>\n",
       "      <td>Maruti</td>\n",
       "      <td>Wagon R</td>\n",
       "      <td>9</td>\n",
       "      <td>62000</td>\n",
       "      <td>Dealer</td>\n",
       "      <td>CNG</td>\n",
       "      <td>Manual</td>\n",
       "      <td>33.54</td>\n",
       "      <td>998</td>\n",
       "      <td>67.04</td>\n",
       "      <td>5</td>\n",
       "      <td>340000</td>\n",
       "    </tr>\n",
       "  </tbody>\n",
       "</table>\n",
       "</div>"
      ],
      "text/plain": [
       "            car_name   brand    model  vehicle_age  km_driven  \\\n",
       "169   Maruti Wagon R  Maruti  Wagon R            3      52000   \n",
       "182   Maruti Wagon R  Maruti  Wagon R            8      64000   \n",
       "1250  Maruti Wagon R  Maruti  Wagon R            4      32013   \n",
       "1574  Maruti Wagon R  Maruti  Wagon R            6      55000   \n",
       "2271  Maruti Wagon R  Maruti  Wagon R            9      62000   \n",
       "\n",
       "           seller_type fuel_type transmission_type  mileage  engine  \\\n",
       "169             Dealer       CNG            Manual    33.54     998   \n",
       "182             Dealer       CNG            Manual    33.54     998   \n",
       "1250  Trustmark Dealer       CNG            Manual    33.54     998   \n",
       "1574            Dealer       CNG            Manual    33.54     998   \n",
       "2271            Dealer       CNG            Manual    33.54     998   \n",
       "\n",
       "      max_power  seats  selling_price  \n",
       "169       67.04      5         435000  \n",
       "182       67.04      5         270000  \n",
       "1250      67.04      5         380000  \n",
       "1574      67.04      5         335000  \n",
       "2271      67.04      5         340000  "
      ]
     },
     "execution_count": 166,
     "metadata": {},
     "output_type": "execute_result"
    }
   ],
   "source": [
    "df[df['mileage']==df['mileage'].max()].head() #Maximum Mileage"
   ]
  },
  {
   "cell_type": "code",
   "execution_count": 168,
   "id": "48927afc",
   "metadata": {},
   "outputs": [
    {
     "data": {
      "text/html": [
       "<div>\n",
       "<style scoped>\n",
       "    .dataframe tbody tr th:only-of-type {\n",
       "        vertical-align: middle;\n",
       "    }\n",
       "\n",
       "    .dataframe tbody tr th {\n",
       "        vertical-align: top;\n",
       "    }\n",
       "\n",
       "    .dataframe thead th {\n",
       "        text-align: right;\n",
       "    }\n",
       "</style>\n",
       "<table border=\"1\" class=\"dataframe\">\n",
       "  <thead>\n",
       "    <tr style=\"text-align: right;\">\n",
       "      <th></th>\n",
       "      <th>car_name</th>\n",
       "      <th>brand</th>\n",
       "      <th>model</th>\n",
       "      <th>vehicle_age</th>\n",
       "      <th>km_driven</th>\n",
       "      <th>seller_type</th>\n",
       "      <th>fuel_type</th>\n",
       "      <th>transmission_type</th>\n",
       "      <th>mileage</th>\n",
       "      <th>engine</th>\n",
       "      <th>max_power</th>\n",
       "      <th>seats</th>\n",
       "      <th>selling_price</th>\n",
       "    </tr>\n",
       "  </thead>\n",
       "  <tbody>\n",
       "    <tr>\n",
       "      <th>3799</th>\n",
       "      <td>Ferrari GTC4Lusso</td>\n",
       "      <td>Ferrari</td>\n",
       "      <td>GTC4Lusso</td>\n",
       "      <td>2</td>\n",
       "      <td>3800</td>\n",
       "      <td>Dealer</td>\n",
       "      <td>Petrol</td>\n",
       "      <td>Automatic</td>\n",
       "      <td>4.0</td>\n",
       "      <td>3855</td>\n",
       "      <td>601.0</td>\n",
       "      <td>4</td>\n",
       "      <td>39500000</td>\n",
       "    </tr>\n",
       "  </tbody>\n",
       "</table>\n",
       "</div>"
      ],
      "text/plain": [
       "               car_name    brand      model  vehicle_age  km_driven  \\\n",
       "3799  Ferrari GTC4Lusso  Ferrari  GTC4Lusso            2       3800   \n",
       "\n",
       "     seller_type fuel_type transmission_type  mileage  engine  max_power  \\\n",
       "3799      Dealer    Petrol         Automatic      4.0    3855      601.0   \n",
       "\n",
       "      seats  selling_price  \n",
       "3799      4       39500000  "
      ]
     },
     "execution_count": 168,
     "metadata": {},
     "output_type": "execute_result"
    }
   ],
   "source": [
    "# Most expensive Car\n",
    "df[df['selling_price']==df['selling_price'].max()]"
   ]
  },
  {
   "cell_type": "code",
   "execution_count": 169,
   "id": "41e65729",
   "metadata": {},
   "outputs": [
    {
     "data": {
      "text/html": [
       "<div>\n",
       "<style scoped>\n",
       "    .dataframe tbody tr th:only-of-type {\n",
       "        vertical-align: middle;\n",
       "    }\n",
       "\n",
       "    .dataframe tbody tr th {\n",
       "        vertical-align: top;\n",
       "    }\n",
       "\n",
       "    .dataframe thead th {\n",
       "        text-align: right;\n",
       "    }\n",
       "</style>\n",
       "<table border=\"1\" class=\"dataframe\">\n",
       "  <thead>\n",
       "    <tr style=\"text-align: right;\">\n",
       "      <th></th>\n",
       "      <th>car_name</th>\n",
       "      <th>brand</th>\n",
       "      <th>model</th>\n",
       "      <th>vehicle_age</th>\n",
       "      <th>km_driven</th>\n",
       "      <th>seller_type</th>\n",
       "      <th>fuel_type</th>\n",
       "      <th>transmission_type</th>\n",
       "      <th>mileage</th>\n",
       "      <th>engine</th>\n",
       "      <th>max_power</th>\n",
       "      <th>seats</th>\n",
       "      <th>selling_price</th>\n",
       "    </tr>\n",
       "  </thead>\n",
       "  <tbody>\n",
       "    <tr>\n",
       "      <th>7607</th>\n",
       "      <td>Maruti Wagon R</td>\n",
       "      <td>Maruti</td>\n",
       "      <td>Wagon R</td>\n",
       "      <td>21</td>\n",
       "      <td>80000</td>\n",
       "      <td>Individual</td>\n",
       "      <td>Petrol</td>\n",
       "      <td>Manual</td>\n",
       "      <td>18.9</td>\n",
       "      <td>998</td>\n",
       "      <td>67.1</td>\n",
       "      <td>5</td>\n",
       "      <td>40000</td>\n",
       "    </tr>\n",
       "  </tbody>\n",
       "</table>\n",
       "</div>"
      ],
      "text/plain": [
       "            car_name   brand    model  vehicle_age  km_driven seller_type  \\\n",
       "7607  Maruti Wagon R  Maruti  Wagon R           21      80000  Individual   \n",
       "\n",
       "     fuel_type transmission_type  mileage  engine  max_power  seats  \\\n",
       "7607    Petrol            Manual     18.9     998       67.1      5   \n",
       "\n",
       "      selling_price  \n",
       "7607          40000  "
      ]
     },
     "execution_count": 169,
     "metadata": {},
     "output_type": "execute_result"
    }
   ],
   "source": [
    "# Most Cheap Car\n",
    "df[df['selling_price']==df['selling_price'].min()]"
   ]
  },
  {
   "cell_type": "code",
   "execution_count": 174,
   "id": "926b25c6",
   "metadata": {},
   "outputs": [],
   "source": [
    "# Second Most Cheap Car\n",
    "sec_most_cheap = df['selling_price'].sort_values().values[1]"
   ]
  },
  {
   "cell_type": "code",
   "execution_count": 175,
   "id": "cb5231cb",
   "metadata": {},
   "outputs": [
    {
     "data": {
      "text/html": [
       "<div>\n",
       "<style scoped>\n",
       "    .dataframe tbody tr th:only-of-type {\n",
       "        vertical-align: middle;\n",
       "    }\n",
       "\n",
       "    .dataframe tbody tr th {\n",
       "        vertical-align: top;\n",
       "    }\n",
       "\n",
       "    .dataframe thead th {\n",
       "        text-align: right;\n",
       "    }\n",
       "</style>\n",
       "<table border=\"1\" class=\"dataframe\">\n",
       "  <thead>\n",
       "    <tr style=\"text-align: right;\">\n",
       "      <th></th>\n",
       "      <th>car_name</th>\n",
       "      <th>brand</th>\n",
       "      <th>model</th>\n",
       "      <th>vehicle_age</th>\n",
       "      <th>km_driven</th>\n",
       "      <th>seller_type</th>\n",
       "      <th>fuel_type</th>\n",
       "      <th>transmission_type</th>\n",
       "      <th>mileage</th>\n",
       "      <th>engine</th>\n",
       "      <th>max_power</th>\n",
       "      <th>seats</th>\n",
       "      <th>selling_price</th>\n",
       "    </tr>\n",
       "  </thead>\n",
       "  <tbody>\n",
       "    <tr>\n",
       "      <th>13676</th>\n",
       "      <td>Maruti Alto</td>\n",
       "      <td>Maruti</td>\n",
       "      <td>Alto</td>\n",
       "      <td>17</td>\n",
       "      <td>110000</td>\n",
       "      <td>Individual</td>\n",
       "      <td>Petrol</td>\n",
       "      <td>Manual</td>\n",
       "      <td>19.7</td>\n",
       "      <td>796</td>\n",
       "      <td>46.3</td>\n",
       "      <td>5</td>\n",
       "      <td>45000</td>\n",
       "    </tr>\n",
       "  </tbody>\n",
       "</table>\n",
       "</div>"
      ],
      "text/plain": [
       "          car_name   brand model  vehicle_age  km_driven seller_type  \\\n",
       "13676  Maruti Alto  Maruti  Alto           17     110000  Individual   \n",
       "\n",
       "      fuel_type transmission_type  mileage  engine  max_power  seats  \\\n",
       "13676    Petrol            Manual     19.7     796       46.3      5   \n",
       "\n",
       "       selling_price  \n",
       "13676          45000  "
      ]
     },
     "execution_count": 175,
     "metadata": {},
     "output_type": "execute_result"
    }
   ],
   "source": [
    "\n",
    "df[df['selling_price']==sec_most_cheap]"
   ]
  },
  {
   "cell_type": "code",
   "execution_count": 181,
   "id": "5ac3e7a3",
   "metadata": {},
   "outputs": [],
   "source": [
    "# second Most expensive Car\n",
    "\n",
    "# sec_most_expens = df['selling_price'].sort_values().values[-2]\n",
    "sec_most_expens = df['selling_price'].sort_values(ascending = false).values[1]"
   ]
  },
  {
   "cell_type": "code",
   "execution_count": 182,
   "id": "f887ff39",
   "metadata": {},
   "outputs": [
    {
     "data": {
      "text/html": [
       "<div>\n",
       "<style scoped>\n",
       "    .dataframe tbody tr th:only-of-type {\n",
       "        vertical-align: middle;\n",
       "    }\n",
       "\n",
       "    .dataframe tbody tr th {\n",
       "        vertical-align: top;\n",
       "    }\n",
       "\n",
       "    .dataframe thead th {\n",
       "        text-align: right;\n",
       "    }\n",
       "</style>\n",
       "<table border=\"1\" class=\"dataframe\">\n",
       "  <thead>\n",
       "    <tr style=\"text-align: right;\">\n",
       "      <th></th>\n",
       "      <th>car_name</th>\n",
       "      <th>brand</th>\n",
       "      <th>model</th>\n",
       "      <th>vehicle_age</th>\n",
       "      <th>km_driven</th>\n",
       "      <th>seller_type</th>\n",
       "      <th>fuel_type</th>\n",
       "      <th>transmission_type</th>\n",
       "      <th>mileage</th>\n",
       "      <th>engine</th>\n",
       "      <th>max_power</th>\n",
       "      <th>seats</th>\n",
       "      <th>selling_price</th>\n",
       "    </tr>\n",
       "  </thead>\n",
       "  <tbody>\n",
       "    <tr>\n",
       "      <th>10969</th>\n",
       "      <td>Rolls-Royce Ghost</td>\n",
       "      <td>Rolls-Royce</td>\n",
       "      <td>Ghost</td>\n",
       "      <td>4</td>\n",
       "      <td>5000</td>\n",
       "      <td>Individual</td>\n",
       "      <td>Petrol</td>\n",
       "      <td>Automatic</td>\n",
       "      <td>10.2</td>\n",
       "      <td>6592</td>\n",
       "      <td>563.0</td>\n",
       "      <td>4</td>\n",
       "      <td>24200000</td>\n",
       "    </tr>\n",
       "  </tbody>\n",
       "</table>\n",
       "</div>"
      ],
      "text/plain": [
       "                car_name        brand  model  vehicle_age  km_driven  \\\n",
       "10969  Rolls-Royce Ghost  Rolls-Royce  Ghost            4       5000   \n",
       "\n",
       "      seller_type fuel_type transmission_type  mileage  engine  max_power  \\\n",
       "10969  Individual    Petrol         Automatic     10.2    6592      563.0   \n",
       "\n",
       "       seats  selling_price  \n",
       "10969      4       24200000  "
      ]
     },
     "execution_count": 182,
     "metadata": {},
     "output_type": "execute_result"
    }
   ],
   "source": [
    "\n",
    "df[df['selling_price']==sec_most_expens]"
   ]
  },
  {
   "cell_type": "code",
   "execution_count": 185,
   "id": "5a9431b5",
   "metadata": {},
   "outputs": [],
   "source": [
    "# Top_10_Cars_by_Selling_price\n",
    "\n",
    "top_10_sp_df = df.sort_values(by = 'selling_price',ascending = False).head(10)\n"
   ]
  },
  {
   "cell_type": "code",
   "execution_count": 186,
   "id": "00375ca4",
   "metadata": {},
   "outputs": [
    {
     "data": {
      "text/plain": [
       "Index(['car_name', 'brand', 'model', 'vehicle_age', 'km_driven', 'seller_type',\n",
       "       'fuel_type', 'transmission_type', 'mileage', 'engine', 'max_power',\n",
       "       'seats', 'selling_price'],\n",
       "      dtype='object')"
      ]
     },
     "execution_count": 186,
     "metadata": {},
     "output_type": "execute_result"
    }
   ],
   "source": [
    "# columns slicing\n",
    "df.columns"
   ]
  },
  {
   "cell_type": "code",
   "execution_count": 187,
   "id": "fabacd82",
   "metadata": {},
   "outputs": [
    {
     "data": {
      "text/html": [
       "<div>\n",
       "<style scoped>\n",
       "    .dataframe tbody tr th:only-of-type {\n",
       "        vertical-align: middle;\n",
       "    }\n",
       "\n",
       "    .dataframe tbody tr th {\n",
       "        vertical-align: top;\n",
       "    }\n",
       "\n",
       "    .dataframe thead th {\n",
       "        text-align: right;\n",
       "    }\n",
       "</style>\n",
       "<table border=\"1\" class=\"dataframe\">\n",
       "  <thead>\n",
       "    <tr style=\"text-align: right;\">\n",
       "      <th></th>\n",
       "      <th>car_name</th>\n",
       "      <th>vehicle_age</th>\n",
       "      <th>fuel_type</th>\n",
       "      <th>selling_price</th>\n",
       "    </tr>\n",
       "  </thead>\n",
       "  <tbody>\n",
       "    <tr>\n",
       "      <th>3799</th>\n",
       "      <td>Ferrari GTC4Lusso</td>\n",
       "      <td>2</td>\n",
       "      <td>Petrol</td>\n",
       "      <td>39500000</td>\n",
       "    </tr>\n",
       "    <tr>\n",
       "      <th>10969</th>\n",
       "      <td>Rolls-Royce Ghost</td>\n",
       "      <td>4</td>\n",
       "      <td>Petrol</td>\n",
       "      <td>24200000</td>\n",
       "    </tr>\n",
       "    <tr>\n",
       "      <th>1172</th>\n",
       "      <td>Bentley Continental</td>\n",
       "      <td>9</td>\n",
       "      <td>Petrol</td>\n",
       "      <td>14500000</td>\n",
       "    </tr>\n",
       "    <tr>\n",
       "      <th>9722</th>\n",
       "      <td>Mercedes-Benz S-Class</td>\n",
       "      <td>3</td>\n",
       "      <td>Petrol</td>\n",
       "      <td>13000000</td>\n",
       "    </tr>\n",
       "    <tr>\n",
       "      <th>9364</th>\n",
       "      <td>Porsche Cayenne</td>\n",
       "      <td>4</td>\n",
       "      <td>Petrol</td>\n",
       "      <td>11100000</td>\n",
       "    </tr>\n",
       "    <tr>\n",
       "      <th>10989</th>\n",
       "      <td>Mercedes-Benz S-Class</td>\n",
       "      <td>2</td>\n",
       "      <td>Petrol</td>\n",
       "      <td>11000000</td>\n",
       "    </tr>\n",
       "    <tr>\n",
       "      <th>1888</th>\n",
       "      <td>Mercedes-Benz S-Class</td>\n",
       "      <td>5</td>\n",
       "      <td>Petrol</td>\n",
       "      <td>11000000</td>\n",
       "    </tr>\n",
       "    <tr>\n",
       "      <th>11000</th>\n",
       "      <td>Land Rover Rover</td>\n",
       "      <td>4</td>\n",
       "      <td>Diesel</td>\n",
       "      <td>9200000</td>\n",
       "    </tr>\n",
       "    <tr>\n",
       "      <th>8439</th>\n",
       "      <td>BMW 7</td>\n",
       "      <td>3</td>\n",
       "      <td>Diesel</td>\n",
       "      <td>8500000</td>\n",
       "    </tr>\n",
       "    <tr>\n",
       "      <th>3096</th>\n",
       "      <td>BMW 7</td>\n",
       "      <td>3</td>\n",
       "      <td>Diesel</td>\n",
       "      <td>8500000</td>\n",
       "    </tr>\n",
       "  </tbody>\n",
       "</table>\n",
       "</div>"
      ],
      "text/plain": [
       "                    car_name  vehicle_age fuel_type  selling_price\n",
       "3799       Ferrari GTC4Lusso            2    Petrol       39500000\n",
       "10969      Rolls-Royce Ghost            4    Petrol       24200000\n",
       "1172     Bentley Continental            9    Petrol       14500000\n",
       "9722   Mercedes-Benz S-Class            3    Petrol       13000000\n",
       "9364         Porsche Cayenne            4    Petrol       11100000\n",
       "10989  Mercedes-Benz S-Class            2    Petrol       11000000\n",
       "1888   Mercedes-Benz S-Class            5    Petrol       11000000\n",
       "11000       Land Rover Rover            4    Diesel        9200000\n",
       "8439                   BMW 7            3    Diesel        8500000\n",
       "3096                   BMW 7            3    Diesel        8500000"
      ]
     },
     "execution_count": 187,
     "metadata": {},
     "output_type": "execute_result"
    }
   ],
   "source": [
    "top_10_sp_df[['car_name','vehicle_age','fuel_type','selling_price']]"
   ]
  },
  {
   "cell_type": "code",
   "execution_count": 197,
   "id": "11426be4",
   "metadata": {},
   "outputs": [],
   "source": [
    "# Top_10_Cars_by_vehicle age\n",
    "\n",
    "top_10_va_df = df.sort_values(by = 'vehicle_age',ascending = False).head(10)\n"
   ]
  },
  {
   "cell_type": "code",
   "execution_count": 198,
   "id": "628aca9d",
   "metadata": {},
   "outputs": [
    {
     "data": {
      "text/html": [
       "<div>\n",
       "<style scoped>\n",
       "    .dataframe tbody tr th:only-of-type {\n",
       "        vertical-align: middle;\n",
       "    }\n",
       "\n",
       "    .dataframe tbody tr th {\n",
       "        vertical-align: top;\n",
       "    }\n",
       "\n",
       "    .dataframe thead th {\n",
       "        text-align: right;\n",
       "    }\n",
       "</style>\n",
       "<table border=\"1\" class=\"dataframe\">\n",
       "  <thead>\n",
       "    <tr style=\"text-align: right;\">\n",
       "      <th></th>\n",
       "      <th>car_name</th>\n",
       "      <th>vehicle_age</th>\n",
       "      <th>km_driven</th>\n",
       "    </tr>\n",
       "  </thead>\n",
       "  <tbody>\n",
       "    <tr>\n",
       "      <th>2596</th>\n",
       "      <td>Maruti Alto</td>\n",
       "      <td>29</td>\n",
       "      <td>22612</td>\n",
       "    </tr>\n",
       "    <tr>\n",
       "      <th>15329</th>\n",
       "      <td>BMW 3</td>\n",
       "      <td>25</td>\n",
       "      <td>50000</td>\n",
       "    </tr>\n",
       "    <tr>\n",
       "      <th>14317</th>\n",
       "      <td>Honda City</td>\n",
       "      <td>22</td>\n",
       "      <td>70000</td>\n",
       "    </tr>\n",
       "    <tr>\n",
       "      <th>8146</th>\n",
       "      <td>Maruti Wagon R</td>\n",
       "      <td>21</td>\n",
       "      <td>120000</td>\n",
       "    </tr>\n",
       "    <tr>\n",
       "      <th>6660</th>\n",
       "      <td>Maruti Wagon R</td>\n",
       "      <td>21</td>\n",
       "      <td>83000</td>\n",
       "    </tr>\n",
       "    <tr>\n",
       "      <th>7607</th>\n",
       "      <td>Maruti Wagon R</td>\n",
       "      <td>21</td>\n",
       "      <td>80000</td>\n",
       "    </tr>\n",
       "    <tr>\n",
       "      <th>6539</th>\n",
       "      <td>Maruti Alto</td>\n",
       "      <td>19</td>\n",
       "      <td>82000</td>\n",
       "    </tr>\n",
       "    <tr>\n",
       "      <th>8000</th>\n",
       "      <td>Maruti Wagon R</td>\n",
       "      <td>19</td>\n",
       "      <td>123500</td>\n",
       "    </tr>\n",
       "    <tr>\n",
       "      <th>3787</th>\n",
       "      <td>Maruti Alto</td>\n",
       "      <td>19</td>\n",
       "      <td>120000</td>\n",
       "    </tr>\n",
       "    <tr>\n",
       "      <th>7687</th>\n",
       "      <td>Maruti Alto</td>\n",
       "      <td>19</td>\n",
       "      <td>54000</td>\n",
       "    </tr>\n",
       "  </tbody>\n",
       "</table>\n",
       "</div>"
      ],
      "text/plain": [
       "             car_name  vehicle_age  km_driven\n",
       "2596      Maruti Alto           29      22612\n",
       "15329           BMW 3           25      50000\n",
       "14317      Honda City           22      70000\n",
       "8146   Maruti Wagon R           21     120000\n",
       "6660   Maruti Wagon R           21      83000\n",
       "7607   Maruti Wagon R           21      80000\n",
       "6539      Maruti Alto           19      82000\n",
       "8000   Maruti Wagon R           19     123500\n",
       "3787      Maruti Alto           19     120000\n",
       "7687      Maruti Alto           19      54000"
      ]
     },
     "execution_count": 198,
     "metadata": {},
     "output_type": "execute_result"
    }
   ],
   "source": [
    "top_10_va_df[['car_name','vehicle_age','km_driven']]"
   ]
  },
  {
   "cell_type": "code",
   "execution_count": 199,
   "id": "714c7708",
   "metadata": {},
   "outputs": [
    {
     "data": {
      "text/html": [
       "<div>\n",
       "<style scoped>\n",
       "    .dataframe tbody tr th:only-of-type {\n",
       "        vertical-align: middle;\n",
       "    }\n",
       "\n",
       "    .dataframe tbody tr th {\n",
       "        vertical-align: top;\n",
       "    }\n",
       "\n",
       "    .dataframe thead th {\n",
       "        text-align: right;\n",
       "    }\n",
       "</style>\n",
       "<table border=\"1\" class=\"dataframe\">\n",
       "  <thead>\n",
       "    <tr style=\"text-align: right;\">\n",
       "      <th></th>\n",
       "      <th>car_name</th>\n",
       "      <th>vehicle_age</th>\n",
       "      <th>km_driven</th>\n",
       "    </tr>\n",
       "  </thead>\n",
       "  <tbody>\n",
       "    <tr>\n",
       "      <th>2596</th>\n",
       "      <td>Maruti Alto</td>\n",
       "      <td>29</td>\n",
       "      <td>22612</td>\n",
       "    </tr>\n",
       "    <tr>\n",
       "      <th>15329</th>\n",
       "      <td>BMW 3</td>\n",
       "      <td>25</td>\n",
       "      <td>50000</td>\n",
       "    </tr>\n",
       "    <tr>\n",
       "      <th>14317</th>\n",
       "      <td>Honda City</td>\n",
       "      <td>22</td>\n",
       "      <td>70000</td>\n",
       "    </tr>\n",
       "    <tr>\n",
       "      <th>8146</th>\n",
       "      <td>Maruti Wagon R</td>\n",
       "      <td>21</td>\n",
       "      <td>120000</td>\n",
       "    </tr>\n",
       "    <tr>\n",
       "      <th>6660</th>\n",
       "      <td>Maruti Wagon R</td>\n",
       "      <td>21</td>\n",
       "      <td>83000</td>\n",
       "    </tr>\n",
       "    <tr>\n",
       "      <th>7607</th>\n",
       "      <td>Maruti Wagon R</td>\n",
       "      <td>21</td>\n",
       "      <td>80000</td>\n",
       "    </tr>\n",
       "    <tr>\n",
       "      <th>6539</th>\n",
       "      <td>Maruti Alto</td>\n",
       "      <td>19</td>\n",
       "      <td>82000</td>\n",
       "    </tr>\n",
       "    <tr>\n",
       "      <th>8000</th>\n",
       "      <td>Maruti Wagon R</td>\n",
       "      <td>19</td>\n",
       "      <td>123500</td>\n",
       "    </tr>\n",
       "    <tr>\n",
       "      <th>3787</th>\n",
       "      <td>Maruti Alto</td>\n",
       "      <td>19</td>\n",
       "      <td>120000</td>\n",
       "    </tr>\n",
       "    <tr>\n",
       "      <th>7687</th>\n",
       "      <td>Maruti Alto</td>\n",
       "      <td>19</td>\n",
       "      <td>54000</td>\n",
       "    </tr>\n",
       "  </tbody>\n",
       "</table>\n",
       "</div>"
      ],
      "text/plain": [
       "             car_name  vehicle_age  km_driven\n",
       "2596      Maruti Alto           29      22612\n",
       "15329           BMW 3           25      50000\n",
       "14317      Honda City           22      70000\n",
       "8146   Maruti Wagon R           21     120000\n",
       "6660   Maruti Wagon R           21      83000\n",
       "7607   Maruti Wagon R           21      80000\n",
       "6539      Maruti Alto           19      82000\n",
       "8000   Maruti Wagon R           19     123500\n",
       "3787      Maruti Alto           19     120000\n",
       "7687      Maruti Alto           19      54000"
      ]
     },
     "execution_count": 199,
     "metadata": {},
     "output_type": "execute_result"
    }
   ],
   "source": [
    "df.sort_values(by = 'vehicle_age',ascending = False).head(10)[['car_name','vehicle_age','km_driven']]\n"
   ]
  },
  {
   "cell_type": "code",
   "execution_count": 200,
   "id": "1d359a42",
   "metadata": {},
   "outputs": [
    {
     "data": {
      "text/plain": [
       "Index(['car_name', 'brand', 'model', 'vehicle_age', 'km_driven', 'seller_type',\n",
       "       'fuel_type', 'transmission_type', 'mileage', 'engine', 'max_power',\n",
       "       'seats', 'selling_price'],\n",
       "      dtype='object')"
      ]
     },
     "execution_count": 200,
     "metadata": {},
     "output_type": "execute_result"
    }
   ],
   "source": [
    "df.columns"
   ]
  },
  {
   "cell_type": "code",
   "execution_count": 201,
   "id": "a7076175",
   "metadata": {},
   "outputs": [],
   "source": [
    "# Bivariate"
   ]
  },
  {
   "cell_type": "code",
   "execution_count": 205,
   "id": "560b3d8a",
   "metadata": {},
   "outputs": [
    {
     "data": {
      "text/plain": [
       "array(['Maruti', 'Hyundai', 'Ford', 'Renault', 'Mini', 'Mercedes-Benz',\n",
       "       'Toyota', 'Volkswagen', 'Honda', 'Mahindra', 'Datsun', 'Tata',\n",
       "       'Kia', 'BMW', 'Audi', 'Land Rover', 'Jaguar', 'MG', 'Isuzu',\n",
       "       'Porsche', 'Skoda', 'Volvo', 'Lexus', 'Jeep', 'Maserati',\n",
       "       'Bentley', 'Nissan', 'ISUZU', 'Ferrari', 'Mercedes-AMG',\n",
       "       'Rolls-Royce', 'Force'], dtype=object)"
      ]
     },
     "execution_count": 205,
     "metadata": {},
     "output_type": "execute_result"
    }
   ],
   "source": [
    "df['brand'].unique()"
   ]
  },
  {
   "cell_type": "code",
   "execution_count": 206,
   "id": "5e9a19bd",
   "metadata": {},
   "outputs": [
    {
     "data": {
      "text/plain": [
       "32"
      ]
     },
     "execution_count": 206,
     "metadata": {},
     "output_type": "execute_result"
    }
   ],
   "source": [
    "df['brand'].nunique()"
   ]
  },
  {
   "cell_type": "code",
   "execution_count": 222,
   "id": "27310895",
   "metadata": {},
   "outputs": [
    {
     "data": {
      "text/plain": [
       "brand\n",
       "Datsun             320517.65\n",
       "Renault            440985.07\n",
       "Maruti             487089.32\n",
       "Volkswagen         516546.77\n",
       "Hyundai            576153.92\n",
       "Honda              617756.90\n",
       "Ford               645224.05\n",
       "Tata               683534.88\n",
       "Force              700000.00\n",
       "Skoda              784089.82\n",
       "Mahindra           787455.00\n",
       "Nissan             955363.64\n",
       "Isuzu             1355000.00\n",
       "Toyota            1371316.52\n",
       "Kia               1735250.00\n",
       "MG                1752947.37\n",
       "Jeep              1795804.88\n",
       "ISUZU             1897500.00\n",
       "Audi              1966864.58\n",
       "Mini              2182647.06\n",
       "Mercedes-Benz     2480741.84\n",
       "Jaguar            2643033.90\n",
       "BMW               2693826.88\n",
       "Volvo             3729700.00\n",
       "Land Rover        3823901.96\n",
       "Mercedes-AMG      5100000.00\n",
       "Lexus             5146500.00\n",
       "Porsche           5161190.48\n",
       "Maserati          6100000.00\n",
       "Bentley           9266666.67\n",
       "Rolls-Royce      24200000.00\n",
       "Ferrari          39500000.00\n",
       "Name: selling_price, dtype: float64"
      ]
     },
     "execution_count": 222,
     "metadata": {},
     "output_type": "execute_result"
    }
   ],
   "source": [
    "# Groupby\n",
    "\n",
    "df.groupby('brand')['selling_price'].mean().round(2).sort_values()"
   ]
  },
  {
   "cell_type": "code",
   "execution_count": 213,
   "id": "e805890c",
   "metadata": {},
   "outputs": [
    {
     "data": {
      "text/plain": [
       "brand\n",
       "Ferrari          39500000.00\n",
       "Rolls-Royce      24200000.00\n",
       "Bentley           9266666.67\n",
       "Maserati          6100000.00\n",
       "Porsche           5161190.48\n",
       "Lexus             5146500.00\n",
       "Mercedes-AMG      5100000.00\n",
       "Land Rover        3823901.96\n",
       "Volvo             3729700.00\n",
       "BMW               2693826.88\n",
       "Jaguar            2643033.90\n",
       "Mercedes-Benz     2480741.84\n",
       "Mini              2182647.06\n",
       "Audi              1966864.58\n",
       "ISUZU             1897500.00\n",
       "Jeep              1795804.88\n",
       "MG                1752947.37\n",
       "Kia               1735250.00\n",
       "Toyota            1371316.52\n",
       "Isuzu             1355000.00\n",
       "Nissan             955363.64\n",
       "Mahindra           787455.00\n",
       "Skoda              784089.82\n",
       "Force              700000.00\n",
       "Tata               683534.88\n",
       "Ford               645224.05\n",
       "Honda              617756.90\n",
       "Hyundai            576153.92\n",
       "Volkswagen         516546.77\n",
       "Maruti             487089.32\n",
       "Renault            440985.07\n",
       "Datsun             320517.65\n",
       "Name: selling_price, dtype: float64"
      ]
     },
     "execution_count": 213,
     "metadata": {},
     "output_type": "execute_result"
    }
   ],
   "source": [
    "df.groupby('brand')['selling_price'].mean().round(2).sort_values(ascending = 0)"
   ]
  },
  {
   "cell_type": "code",
   "execution_count": 223,
   "id": "4602e238",
   "metadata": {},
   "outputs": [
    {
     "data": {
      "text/plain": [
       "array(['Individual', 'Dealer', 'Trustmark Dealer'], dtype=object)"
      ]
     },
     "execution_count": 223,
     "metadata": {},
     "output_type": "execute_result"
    }
   ],
   "source": [
    "df['seller_type'].unique()"
   ]
  },
  {
   "cell_type": "code",
   "execution_count": 224,
   "id": "d467e323",
   "metadata": {},
   "outputs": [
    {
     "data": {
      "text/html": [
       "<div>\n",
       "<style scoped>\n",
       "    .dataframe tbody tr th:only-of-type {\n",
       "        vertical-align: middle;\n",
       "    }\n",
       "\n",
       "    .dataframe tbody tr th {\n",
       "        vertical-align: top;\n",
       "    }\n",
       "\n",
       "    .dataframe thead th {\n",
       "        text-align: right;\n",
       "    }\n",
       "</style>\n",
       "<table border=\"1\" class=\"dataframe\">\n",
       "  <thead>\n",
       "    <tr style=\"text-align: right;\">\n",
       "      <th></th>\n",
       "      <th>min</th>\n",
       "      <th>max</th>\n",
       "      <th>mean</th>\n",
       "    </tr>\n",
       "    <tr>\n",
       "      <th>seller_type</th>\n",
       "      <th></th>\n",
       "      <th></th>\n",
       "      <th></th>\n",
       "    </tr>\n",
       "  </thead>\n",
       "  <tbody>\n",
       "    <tr>\n",
       "      <th>Dealer</th>\n",
       "      <td>55000</td>\n",
       "      <td>39500000</td>\n",
       "      <td>872506.0</td>\n",
       "    </tr>\n",
       "    <tr>\n",
       "      <th>Individual</th>\n",
       "      <td>40000</td>\n",
       "      <td>24200000</td>\n",
       "      <td>617880.0</td>\n",
       "    </tr>\n",
       "    <tr>\n",
       "      <th>Trustmark Dealer</th>\n",
       "      <td>210000</td>\n",
       "      <td>1575000</td>\n",
       "      <td>571960.0</td>\n",
       "    </tr>\n",
       "  </tbody>\n",
       "</table>\n",
       "</div>"
      ],
      "text/plain": [
       "                     min       max      mean\n",
       "seller_type                                 \n",
       "Dealer             55000  39500000  872506.0\n",
       "Individual         40000  24200000  617880.0\n",
       "Trustmark Dealer  210000   1575000  571960.0"
      ]
     },
     "execution_count": 224,
     "metadata": {},
     "output_type": "execute_result"
    }
   ],
   "source": [
    "df.groupby('seller_type')['selling_price'].agg(['min','max','mean']).round()"
   ]
  },
  {
   "cell_type": "code",
   "execution_count": null,
   "id": "4042ac87",
   "metadata": {},
   "outputs": [],
   "source": []
  }
 ],
 "metadata": {
  "kernelspec": {
   "display_name": "Python 3 (ipykernel)",
   "language": "python",
   "name": "python3"
  },
  "language_info": {
   "codemirror_mode": {
    "name": "ipython",
    "version": 3
   },
   "file_extension": ".py",
   "mimetype": "text/x-python",
   "name": "python",
   "nbconvert_exporter": "python",
   "pygments_lexer": "ipython3",
   "version": "3.9.12"
  }
 },
 "nbformat": 4,
 "nbformat_minor": 5
}
